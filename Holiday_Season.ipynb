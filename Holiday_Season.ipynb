{
  "nbformat": 4,
  "nbformat_minor": 0,
  "metadata": {
    "colab": {
      "name": "Holiday_Season.ipynb",
      "provenance": [],
      "authorship_tag": "ABX9TyPWlaKsVyQFl9G/cnJzVuim",
      "include_colab_link": true
    },
    "kernelspec": {
      "name": "python3",
      "display_name": "Python 3"
    }
  },
  "cells": [
    {
      "cell_type": "markdown",
      "metadata": {
        "id": "view-in-github",
        "colab_type": "text"
      },
      "source": [
        "<a href=\"https://colab.research.google.com/github/vvicky30/python/blob/master/Holiday_Season.ipynb\" target=\"_parent\"><img src=\"https://colab.research.google.com/assets/colab-badge.svg\" alt=\"Open In Colab\"/></a>"
      ]
    },
    {
      "cell_type": "markdown",
      "metadata": {
        "id": "QNgV699DnVhW",
        "colab_type": "text"
      },
      "source": [
        "##problem:-\n",
        "It's a holiday season for all school students around the world! Unfortunately, Mahamba is busy preparing for International Olympiad in Informatics, which will be held in Tehran, Iran. He is now facing a new challenge from his teacher Aceka, and it goes something like this:\n",
        "\n",
        "You have a string x of length N, which consists of small English letters. You have to find the number of indexes a, b, c and d, such that:\n",
        "1<=a<b<c<d...<=N,  xa==xc & xb==xd\n",
        "\n",
        "###Input format:-\n",
        "\n",
        "The first line contains the number N - the length of a string x. The second line contains the string x itself.\n",
        "\n",
        "###Output format:-\n",
        "\n",
        "The first and only line should contain the answer to the problem.\n",
        "####constraints:-\n",
        "\n",
        "The string x only contains small English letters.\n",
        "\n",
        "###sample input:\n",
        "5\n",
        "\n",
        "ababa\n",
        "### sample output:\n",
        "2\n",
        "###Explanation:\n",
        "There are only 2 variants: (a=1,b=2,c=3,d=4) and (a=2,b=3,c=4,d=5)"
      ]
    },
    {
      "cell_type": "code",
      "metadata": {
        "id": "X0dDhNVXZpZR",
        "colab_type": "code",
        "colab": {
          "base_uri": "https://localhost:8080/",
          "height": 67
        },
        "outputId": "7e0d97d7-1258-4292-afcd-afd0408c83ad"
      },
      "source": [
        "n=int(input())\n",
        "x=input()[:n]#so that this string is  bounded by n-length\n",
        "freq=[]\n",
        "for i in range(0,26):\n",
        "  freq.append(0)\n",
        "ans=0\n",
        "for i in range(n):\n",
        "  temp=0\n",
        "  for j in range(i+1,n):\n",
        "    if(x[i]==x[j]):\n",
        "      ans+=temp\n",
        "    temp+=freq[ord(x[j])-97]#here we add the freq-index to temp.....the freq-index is retrived by subracting unicode value of alphabet by 97  as in case of 'z' its 122-97=25\n",
        "  freq[ord(x[i])-97]+=1\n",
        "print(ans)"
      ],
      "execution_count": 53,
      "outputs": [
        {
          "output_type": "stream",
          "text": [
            "5\n",
            "ababa\n",
            "2\n"
          ],
          "name": "stdout"
        }
      ]
    }
  ]
}