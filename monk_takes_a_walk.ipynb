{
  "nbformat": 4,
  "nbformat_minor": 0,
  "metadata": {
    "colab": {
      "name": "monk take a walk.ipynb",
      "provenance": [],
      "collapsed_sections": [],
      "authorship_tag": "ABX9TyPcovxTfgI9p/jCMTXkg+L7",
      "include_colab_link": true
    },
    "kernelspec": {
      "name": "python3",
      "display_name": "Python 3"
    }
  },
  "cells": [
    {
      "cell_type": "markdown",
      "metadata": {
        "id": "view-in-github",
        "colab_type": "text"
      },
      "source": [
        "<a href=\"https://colab.research.google.com/github/vvicky30/python/blob/master/monk_takes_a_walk.ipynb\" target=\"_parent\"><img src=\"https://colab.research.google.com/assets/colab-badge.svg\" alt=\"Open In Colab\"/></a>"
      ]
    },
    {
      "cell_type": "markdown",
      "metadata": {
        "id": "Ib0e8_XBsqaR",
        "colab_type": "text"
      },
      "source": [
        "##problem:\n",
        "Today, Monk went for a walk in a garden. There are many trees in the garden and each tree has an English alphabet on it. While Monk was walking, he noticed that all trees with vowels on it are not in good state. He decided to take care of them. So, he asked you to tell him the count of such trees in the garden.\n",
        "Note : The following letters are vowels: 'A', 'E', 'I', 'O', 'U' ,'a','e','i','o' and 'u'.\n",
        "\n",
        "###Input:\n",
        "The first line consists of an integer T denoting the number of test cases.\n",
        "Each test case consists of only one string, each character of string denoting the alphabet (may be lowercase or uppercase) on a tree in the garden.\n",
        "\n",
        "###Output:\n",
        "For each test case, print the count in a new line.\n",
        "\n",
        "###sample-input\n",
        "2\n",
        "\n",
        "nBBZLaosnm\n",
        "\n",
        "JHkIsnZtTL\n",
        "\n",
        "###sample-output\n",
        "2\n",
        "1"
      ]
    },
    {
      "cell_type": "code",
      "metadata": {
        "id": "l5IwaigN0hxt",
        "colab_type": "code",
        "outputId": "ea4448ef-43a9-45fa-95d6-4eef958c1e02",
        "colab": {
          "base_uri": "https://localhost:8080/",
          "height": 185
        }
      },
      "source": [
        "test_no=int(input(\"enter the number of testcases:\"))\n",
        "att=1\n",
        "\n",
        "for i in range(test_no):\n",
        "   print(\"enter testcase-\",+att)\n",
        "\n",
        "   a_string = input()\n",
        "   lowercase = a_string.lower()\n",
        "   count=0 \n",
        "   for i in range(len(lowercase)):\n",
        "      if(lowercase[i] in 'aeiou'):\n",
        "        count += 1\n",
        "   print(count)\n",
        "   att +=1"
      ],
      "execution_count": 14,
      "outputs": [
        {
          "output_type": "stream",
          "text": [
            "enter the number of testcases:3\n",
            "enter testcase- 1\n",
            "vedant\n",
            "2\n",
            "enter testcase- 2\n",
            "kishoRe\n",
            "3\n",
            "enter testcase- 3\n",
            "SADHana\n",
            "3\n"
          ],
          "name": "stdout"
        }
      ]
    }
  ]
}