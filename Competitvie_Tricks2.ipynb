{
  "nbformat": 4,
  "nbformat_minor": 0,
  "metadata": {
    "colab": {
      "name": "Competitvie_Tricks2.ipynb",
      "provenance": [],
      "authorship_tag": "ABX9TyPCRszID87KQVd+ZuAxdtfz",
      "include_colab_link": true
    },
    "kernelspec": {
      "name": "python3",
      "display_name": "Python 3"
    }
  },
  "cells": [
    {
      "cell_type": "markdown",
      "metadata": {
        "id": "view-in-github",
        "colab_type": "text"
      },
      "source": [
        "<a href=\"https://colab.research.google.com/github/vvicky30/python/blob/master/Competitvie_Tricks2.ipynb\" target=\"_parent\"><img src=\"https://colab.research.google.com/assets/colab-badge.svg\" alt=\"Open In Colab\"/></a>"
      ]
    },
    {
      "cell_type": "code",
      "metadata": {
        "colab": {
          "base_uri": "https://localhost:8080/"
        },
        "id": "njwJXANYElrz",
        "outputId": "82785f8e-b229-4362-a203-bb9724d606cb"
      },
      "source": [
        "def Sum1(n):  #with time complexity of o(1)\n",
        "  return n*(n+1)//2\n",
        "\n",
        "\n",
        "def Sum2(n): #with time complexity of o(n)\n",
        "  sum=0\n",
        "  for i in range(1,n+1):\n",
        "    sum=sum+i\n",
        "  return sum\n",
        "\n",
        "#taking no. so that upto that number(n) we sum up all integers within it\n",
        "t=int(input())#test cases numbers\n",
        "while t: # while its +ve not zero\n",
        "  n=int(input())\n",
        "  print(\"sum of number upto t from sum1 {}:\".format(Sum1(n))) #make output earleir than below once\n",
        "  print(\"sum of number up to t from sum2 {}:\".format(Sum2(n)))#make overdue ouput   due to 0(n)time complexity\n",
        "  t=t-1\n",
        "\n",
        "\n"
      ],
      "execution_count": 3,
      "outputs": [
        {
          "output_type": "stream",
          "text": [
            "3\n",
            "10\n",
            "sum of number upto t from sum1 55:\n",
            "sum of number up to t from sum2 55:\n",
            "50\n",
            "sum of number upto t from sum1 1275:\n",
            "sum of number up to t from sum2 1275:\n",
            "99999999\n",
            "sum of number upto t from sum1 4999999950000000:\n",
            "sum of number up to t from sum2 4999999950000000:\n"
          ],
          "name": "stdout"
        }
      ]
    },
    {
      "cell_type": "code",
      "metadata": {
        "colab": {
          "base_uri": "https://localhost:8080/"
        },
        "id": "iT1W6BoipsDm",
        "outputId": "cf29aed5-a0e9-44c7-e5c4-173ddfadbd1d"
      },
      "source": [
        "\"\"\"\n",
        "Euclid algo here used for calculating GCD & LCM\n",
        "where it has time complexity = O(log(min(a,b)))\n",
        "where it has mathamtical property that ----product(a,b)=GCD(a,b)*LCM(a,b)\n",
        "so for finding LCM(a,b)=product(a,b)//GCD(a,b) \n",
        "\"\"\"\n",
        "def GCD(a,b):\n",
        "  if a==0:\n",
        "    return (b)\n",
        "  return GCD(b%a,a)#recursive\n",
        "def LCM(a,b):\n",
        "  prod=a*b\n",
        "  HCF=GCD(a,b)\n",
        "  return prod//HCF\n",
        "\n",
        "\n",
        "t=int(input())\n",
        "while t:  # if while true means +ve no. test cases \n",
        "  n,m=map(int,input().split())#taking 2 numbers for which lcm & gcd is to be calculated \n",
        "  print(\"LCM:{} GCD:{}\".format(LCM(n,m),GCD(n,m)))\n",
        "  t=t-1"
      ],
      "execution_count": 9,
      "outputs": [
        {
          "output_type": "stream",
          "text": [
            "2\n",
            "5 10\n",
            "LCM:10 GCD:5\n",
            "2 4\n",
            "LCM:4 GCD:2\n"
          ],
          "name": "stdout"
        }
      ]
    }
  ]
}