{
  "nbformat": 4,
  "nbformat_minor": 0,
  "metadata": {
    "colab": {
      "name": "mathematical_operations.ipynb",
      "provenance": [],
      "collapsed_sections": [],
      "authorship_tag": "ABX9TyNju2YQrJsuzr9ZGhRxng3Z",
      "include_colab_link": true
    },
    "kernelspec": {
      "name": "python3",
      "display_name": "Python 3"
    }
  },
  "cells": [
    {
      "cell_type": "markdown",
      "metadata": {
        "id": "view-in-github",
        "colab_type": "text"
      },
      "source": [
        "<a href=\"https://colab.research.google.com/github/vvicky30/python/blob/master/mathematical_operations.ipynb\" target=\"_parent\"><img src=\"https://colab.research.google.com/assets/colab-badge.svg\" alt=\"Open In Colab\"/></a>"
      ]
    },
    {
      "cell_type": "code",
      "metadata": {
        "id": "6sg1N5j1EnqK",
        "colab_type": "code",
        "colab": {
          "base_uri": "https://localhost:8080/",
          "height": 52
        },
        "outputId": "522d534e-bbfa-47a9-8779-25a53cd476ea"
      },
      "source": [
        "num1 = int(input('Enter First number: '))\n",
        "num2 = int(input('Enter Second number '))\n",
        "add = num1 + num2\n",
        "dif = num1 - num2\n",
        "mul = num1 * num2\n",
        "div = num1 / num2\n",
        "modulus = num1 % num2\n"
      ],
      "execution_count": 1,
      "outputs": [
        {
          "output_type": "stream",
          "text": [
            "Enter First number: 12\n",
            "Enter Second number 13\n"
          ],
          "name": "stdout"
        }
      ]
    },
    {
      "cell_type": "code",
      "metadata": {
        "id": "84Obo6sMFcJk",
        "colab_type": "code",
        "colab": {
          "base_uri": "https://localhost:8080/",
          "height": 104
        },
        "outputId": "f680ed16-60da-4b43-ad11-7094b384100a"
      },
      "source": [
        "print('Sum of ',num1 ,'and' ,num2 ,'is :',add)\n",
        "print('Difference of ',num1 ,'and' ,num2 ,'is :',dif)\n",
        "print('Product of' ,num1 ,'and' ,num2 ,'is :',mul)\n",
        "print('Division of ',num1 ,'and' ,num2 ,'is :',div)\n",
        "print('Modulus of ',num1 ,'and' ,num2 ,'is :',modulus)"
      ],
      "execution_count": 2,
      "outputs": [
        {
          "output_type": "stream",
          "text": [
            "Sum of  12 and 13 is : 25\n",
            "Difference of  12 and 13 is : -1\n",
            "Product of 12 and 13 is : 156\n",
            "Division of  12 and 13 is : 0.9230769230769231\n",
            "Modulus of  12 and 13 is : 12\n"
          ],
          "name": "stdout"
        }
      ]
    },
    {
      "cell_type": "code",
      "metadata": {
        "id": "xiDWx54IO1qU",
        "colab_type": "code",
        "colab": {
          "base_uri": "https://localhost:8080/",
          "height": 52
        },
        "outputId": "8e8bfb54-27f6-4e1a-c529-91a711d4cfaa"
      },
      "source": [
        "if __name__ == \"__main__\": \n",
        "  \n",
        "    # Store marks of all the subjects \n",
        "    marks = [45, 65, 96, 98, 78, 65 ] \n",
        "  \n",
        "    # Max marks will be 100 * number \n",
        "    max_marks = len(marks)* 100\n",
        "  \n",
        "    # Initialize student's total  \n",
        "    # marks to 0 \n",
        "    total = 0\n",
        "  \n",
        "    # Initialize student's grade \n",
        "   \n",
        "    grade = 'FALTU'\n",
        "  \n",
        "    # Traverse though the marks array \n",
        "    # to find the sum. \n",
        "    for i in range(len(marks)): \n",
        "        total += marks[i] \n",
        "  \n",
        "   \n",
        "    percentage = ((total) /max_marks) * 100\n",
        "  \n",
        "    # Nested if else \n",
        "    if (percentage >= 75): \n",
        "        grade = 'ARYA COLLEGE'\n",
        "          \n",
        "    else : \n",
        "        if (percentage >= 65 and\n",
        "            percentage <= 75) : \n",
        "            grade = 'IIT -BOMBAY'\n",
        "       \n",
        "        else: \n",
        "          grade = 'FALTU'\n",
        "          \n",
        "    print(grade,\"is open for your counselling\") \n",
        "    print(percentage,\"percent\")"
      ],
      "execution_count": 15,
      "outputs": [
        {
          "output_type": "stream",
          "text": [
            "IIT -BOMBAY is open for your counselling\n",
            "74.5 percent\n"
          ],
          "name": "stdout"
        }
      ]
    },
    {
      "cell_type": "code",
      "metadata": {
        "id": "IsvTEquvSCLY",
        "colab_type": "code",
        "colab": {
          "base_uri": "https://localhost:8080/",
          "height": 52
        },
        "outputId": "964a827f-63d2-4ee0-95d5-ca44a2a5a00a"
      },
      "source": [
        "def digitSum(n): \n",
        "    sum = 0\n",
        "    while (n != 0): \n",
        "\n",
        "        sum = sum + int(n % 10) \n",
        "        n = int(n/10) \n",
        "   \n",
        "    return sum\n",
        "n = int(input('Enter any n-digit number number: '))\n",
        "print(digitSum(n)) \n"
      ],
      "execution_count": 18,
      "outputs": [
        {
          "output_type": "stream",
          "text": [
            "Enter any n-digit number number: 123456789\n",
            "45\n"
          ],
          "name": "stdout"
        }
      ]
    }
  ]
}