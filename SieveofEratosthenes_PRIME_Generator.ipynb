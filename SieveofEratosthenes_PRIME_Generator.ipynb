{
  "nbformat": 4,
  "nbformat_minor": 0,
  "metadata": {
    "colab": {
      "name": "SieveofEratosthenes_PRIME_Generator.ipynb",
      "provenance": [],
      "authorship_tag": "ABX9TyMlogsjA46SPslJCnyB87gx",
      "include_colab_link": true
    },
    "kernelspec": {
      "name": "python3",
      "display_name": "Python 3"
    }
  },
  "cells": [
    {
      "cell_type": "markdown",
      "metadata": {
        "id": "view-in-github",
        "colab_type": "text"
      },
      "source": [
        "<a href=\"https://colab.research.google.com/github/vvicky30/python/blob/master/SieveofEratosthenes_PRIME_Generator.ipynb\" target=\"_parent\"><img src=\"https://colab.research.google.com/assets/colab-badge.svg\" alt=\"Open In Colab\"/></a>"
      ]
    },
    {
      "cell_type": "markdown",
      "metadata": {
        "id": "PfRN74lUZw2y"
      },
      "source": [
        "####If we want to generate prime numbers upto 'N' number then what approach should we go for and which is more preferable(with lowest possible time complexity algo):-\r\n",
        "\r\n",
        "#####1. basic approach of doing this task:--\r\n",
        "    For each number from 0 to N:-   --------O(N)\r\n",
        "          Traverse and check for every number wether its prime or not\r\n",
        "          (primality-test)          -----TC=O(sqrt(N))\r\n",
        "               And then print all prime numbers   ------O(1)\r\n",
        "  \r\n",
        "so total time complexity of this approch will be O(N*sqrt(N))\r\n",
        "\r\n",
        "and this sqrt(N) can be tends to N if N is very big numbers arround millions & billions\r\n",
        "             \r\n",
        "    Sqrt(N)-> N [if N very big number Millions or billions]\r\n",
        "        then at this time overall time complexity of this approach will be N*N(quadatic complexity)"
      ]
    },
    {
      "cell_type": "code",
      "metadata": {
        "colab": {
          "base_uri": "https://localhost:8080/"
        },
        "id": "ddHuons7ZZeD",
        "outputId": "30ec0eaa-59a4-40b8-dc8c-f5c86249a96c"
      },
      "source": [
        "# implementing approch-1:-\r\n",
        "from math import *\r\n",
        "def Primality_GenPrime(N):\r\n",
        "\r\n",
        "  primes=[True]*(N+1)#create list of size N+1 which already initialized as True\r\n",
        "  for p in range(0,N+1):\r\n",
        "    primes[2]=True #base conditions of primality  #O(1)\r\n",
        "    primes[3]=True                                #O(1)\r\n",
        "    if p==0 or p==1: #o(1)\r\n",
        "      primes[p]=False\r\n",
        "\r\n",
        "    if p%2==0 or p%3==0: #o(1)\r\n",
        "      primes[p]=False\r\n",
        "    #as we already knows that '4' is not prime number as its modulo with 2 is eual to zero so we starts out loop with '5'\r\n",
        "    for j in range (5,int(sqrt(p))+1): #o(sqrt(n))\r\n",
        "       if p%j==0 or p%(j+2)==0:\r\n",
        "          primes[p]=False\r\n",
        "\r\n",
        "\r\n",
        "  for i in range(0,len(primes)):   #for printing ----O(1) only\r\n",
        "     if primes[i]==True:\r\n",
        "        print(i,end=\" \")\r\n",
        "t=int(input())  \r\n",
        "while t:\r\n",
        "  N=int(input())\r\n",
        "  Primality_GenPrime(N)\r\n",
        "  t=t-1"
      ],
      "execution_count": 21,
      "outputs": [
        {
          "output_type": "stream",
          "text": [
            "3\n",
            "10\n",
            "2 3 5 7 50\n",
            "2 3 5 7 11 13 17 19 23 29 31 37 41 43 47 500\n",
            "2 3 5 7 11 13 17 19 23 29 31 37 41 43 47 53 59 61 67 71 73 79 83 89 97 101 103 107 109 113 127 131 137 139 149 151 157 163 167 173 179 181 191 193 197 199 211 223 227 229 233 239 241 251 257 263 269 271 277 281 283 293 307 311 313 317 331 337 347 349 353 359 367 373 379 383 389 397 401 409 419 421 431 433 439 443 449 457 461 463 467 479 487 491 499 "
          ],
          "name": "stdout"
        }
      ]
    },
    {
      "cell_type": "markdown",
      "metadata": {
        "id": "u9xfF3SHq9gH"
      },
      "source": [
        "#### 2-approach is Sieve o fEratosthenes\r\n",
        "     where it has total time complexity = O(n*log(log(n)))\r\n",
        "#####here below explanation of whole methodology by simple example\r\n",
        "     lets suppose we have to print prime numbers upto 50 \r\n",
        "\r\n",
        "     so firstly we pre-assumed that all numbers between 0 to 50 including 0 & 50 are prime no.\r\n",
        "     as:\r\n",
        "     0 1 2  3  4  5  6 7  8  9  10\r\n",
        "     11 12 13 14 15 16 17 18 19 20\r\n",
        "     21 22 23 24 25 26 27 28 29 30\r\n",
        "     31 32 33 34 35 36 37 38 39 40\r\n",
        "     41 42 43 44 45 46 47 48 49 50\r\n",
        "     then base condition of sieve of erithenos that 0 and 1 are not prime(remove them):-\r\n",
        "     2  3  4  5  6 7  8  9  10\r\n",
        "     11 12 13 14 15 16 17 18 19 20\r\n",
        "     21 22 23 24 25 26 27 28 29 30\r\n",
        "     31 32 33 34 35 36 37 38 39 40\r\n",
        "     41 42 43 44 45 46 47 48 49 50\r\n",
        "     now have very importan step \r\n",
        "     for traversing each further prime-no(that we already pre-assumed that all are prime-no which in the list ,currently.)\r\n",
        "     for example here our first no is 2 then from 2 to sqrt(n) we traverse[always]\r\n",
        "     then as assumed 2 is prime-no(actually its ) then its sqr(2) and numbers which are greater than sqr(2) AND divisible by 2 will be removed[here for removing  numbers which are gerreater then sqr(2) AND divisible by 2 ---> we make lopp which starts from sqare of that particular number till to the n by taking steps succesively which is of length eual to that particular number]\r\n",
        "    [here is case of '2'its from 4 to n by taking 2-2-steps succesively]\r\n",
        "           \r\n",
        "     2  3     5    7     9  \r\n",
        "     11    13    15    17    19  \r\n",
        "     21    23    25   27    29 \r\n",
        "     31   33    35    37    39 \r\n",
        "     41    43    45    47    49 \r\n",
        "     similarly for number 3 now:-\r\n",
        "     [here is case of '3' its from 9 to n by taking 3-3-steps succesively]\r\n",
        "      2  3     5    7       \r\n",
        "     11    13        17    19  \r\n",
        "         23    25       29 \r\n",
        "     31       35    37     \r\n",
        "     41    43        47    49 \r\n",
        "    similarly for number 5 now:-\r\n",
        "     [here is case of '5' its from 25 to n by taking 5-5-steps succesively]\r\n",
        "      2  3     5    7       \r\n",
        "     11    13        17    19  \r\n",
        "         23           29 \r\n",
        "     31           37     \r\n",
        "     41    43        47    49 \r\n",
        "     similarly for number 7 now:-\r\n",
        "     [here is case of '7' its from 49 to n by taking 7-7-steps succesively]\r\n",
        "      2  3     5    7       \r\n",
        "     11    13        17    19  \r\n",
        "         23           29 \r\n",
        "     31           37     \r\n",
        "     41    43        47     \r\n"
      ]
    },
    {
      "cell_type": "code",
      "metadata": {
        "colab": {
          "base_uri": "https://localhost:8080/"
        },
        "id": "egEtfy6yq81I",
        "outputId": "b9278888-aadd-4b39-9c0f-2541de779a60"
      },
      "source": [
        "from math import sqrt\r\n",
        "\r\n",
        "def genprimes(n):\r\n",
        "  primes=[True]*(n+1) #creating primes-list of length n which initialized by True (as we alraedy pre-assumed that all are prime nubers from zero upto n)\r\n",
        "  primes[0]=False\r\n",
        "  primes[1]=False\r\n",
        "                  #above are two base conditions\r\n",
        "  for p in range(2,int(sqrt(n))+1):\r\n",
        "    if primes[p]==True:\r\n",
        "      for i in range(p*p,n+1,p):\r\n",
        "        primes[i]=False\r\n",
        "  #for printing\r\n",
        "  for j in range(0,len(primes)):\r\n",
        "    if primes[j]==True:\r\n",
        "      print(j,end=\" \")\r\n",
        "t=int(input())\r\n",
        "while t:\r\n",
        "  n=int(input())\r\n",
        "  genprimes(n)\r\n",
        "  t=t-1"
      ],
      "execution_count": 26,
      "outputs": [
        {
          "output_type": "stream",
          "text": [
            "3\n",
            "10\n",
            "2 3 5 7 50\n",
            "2 3 5 7 11 13 17 19 23 29 31 37 41 43 47 2000\n",
            "2 3 5 7 11 13 17 19 23 29 31 37 41 43 47 53 59 61 67 71 73 79 83 89 97 101 103 107 109 113 127 131 137 139 149 151 157 163 167 173 179 181 191 193 197 199 211 223 227 229 233 239 241 251 257 263 269 271 277 281 283 293 307 311 313 317 331 337 347 349 353 359 367 373 379 383 389 397 401 409 419 421 431 433 439 443 449 457 461 463 467 479 487 491 499 503 509 521 523 541 547 557 563 569 571 577 587 593 599 601 607 613 617 619 631 641 643 647 653 659 661 673 677 683 691 701 709 719 727 733 739 743 751 757 761 769 773 787 797 809 811 821 823 827 829 839 853 857 859 863 877 881 883 887 907 911 919 929 937 941 947 953 967 971 977 983 991 997 1009 1013 1019 1021 1031 1033 1039 1049 1051 1061 1063 1069 1087 1091 1093 1097 1103 1109 1117 1123 1129 1151 1153 1163 1171 1181 1187 1193 1201 1213 1217 1223 1229 1231 1237 1249 1259 1277 1279 1283 1289 1291 1297 1301 1303 1307 1319 1321 1327 1361 1367 1373 1381 1399 1409 1423 1427 1429 1433 1439 1447 1451 1453 1459 1471 1481 1483 1487 1489 1493 1499 1511 1523 1531 1543 1549 1553 1559 1567 1571 1579 1583 1597 1601 1607 1609 1613 1619 1621 1627 1637 1657 1663 1667 1669 1693 1697 1699 1709 1721 1723 1733 1741 1747 1753 1759 1777 1783 1787 1789 1801 1811 1823 1831 1847 1861 1867 1871 1873 1877 1879 1889 1901 1907 1913 1931 1933 1949 1951 1973 1979 1987 1993 1997 1999 "
          ],
          "name": "stdout"
        }
      ]
    }
  ]
}