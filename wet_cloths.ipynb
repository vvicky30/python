{
  "nbformat": 4,
  "nbformat_minor": 0,
  "metadata": {
    "colab": {
      "name": "wet_cloths.ipynb",
      "provenance": [],
      "collapsed_sections": [],
      "authorship_tag": "ABX9TyMuWrLp78pLjihxCqK0J+td",
      "include_colab_link": true
    },
    "kernelspec": {
      "name": "python3",
      "display_name": "Python 3"
    }
  },
  "cells": [
    {
      "cell_type": "markdown",
      "metadata": {
        "id": "view-in-github",
        "colab_type": "text"
      },
      "source": [
        "<a href=\"https://colab.research.google.com/github/vvicky30/python/blob/master/wet_cloths.ipynb\" target=\"_parent\"><img src=\"https://colab.research.google.com/assets/colab-badge.svg\" alt=\"Open In Colab\"/></a>"
      ]
    },
    {
      "cell_type": "code",
      "metadata": {
        "id": "tn21TffpnIqV",
        "colab_type": "code",
        "colab": {
          "base_uri": "https://localhost:8080/",
          "height": 67
        },
        "outputId": "74fe98cd-18da-4649-f69e-bdf501b951e4"
      },
      "source": [
        "#basic linear search algorithm:--(where its return last occurence of elements to be searched(if exist) else return -1)\n",
        "arr_size,ele=input(\"enter array's size and element to be searched\").split()\n",
        "number_array=list(map(int, input().split()))\n",
        "found=-1\n",
        "for i in range(int(arr_size)):\n",
        "    if(number_array[i]==int(ele)):\n",
        "        found=i+1\n",
        "print(found)"
      ],
      "execution_count": 56,
      "outputs": [
        {
          "output_type": "stream",
          "text": [
            "5 1\n",
            "1 2 3 4 1\n",
            "5\n"
          ],
          "name": "stdout"
        }
      ]
    },
    {
      "cell_type": "markdown",
      "metadata": {
        "id": "aLHonAJfbjIb",
        "colab_type": "text"
      },
      "source": [
        "##problem:-\n",
        "We have  completely wet clothes out under sunshine waiting to become dry. we are now at second t1 and it's raining. It's going to rain again on seconds t2....tn  and after each rain clothes will be completely wet again. Cloth number i  needs ai  seconds to become dry. We can go out and collect all dry clothes at any moment but can't do this more than g times. What is the maximum number of clothes we can collect until second tn ? Note that the duration of each rain is almost zero, so we can ignore it. Also collecting clothes does not take any time from us.\n",
        "###input format:-\n",
        "First line of input contains three integers n , m, g  respectively. In the second line will be  n increasing numbers denoting t1..tn. In the Last line will have m numbers denoting dry-time of cloths.\n",
        "\n",
        "###Output format\n",
        "\n",
        "In a single line print maxmimum number of clothes we can collect.\n",
        "\n",
        "##sample input:                 \n",
        "3 3 2                                    \n",
        "\n",
        "3 5 8\n",
        "\n",
        "4 1 3\n",
        "##sample output:\n",
        "2"
      ]
    },
    {
      "cell_type": "code",
      "metadata": {
        "id": "992rjui8Hk-f",
        "colab_type": "code",
        "colab": {
          "base_uri": "https://localhost:8080/",
          "height": 134
        },
        "outputId": "0a4328e7-e5e6-4413-bb23-a445e5985168"
      },
      "source": [
        "#problem solution\n",
        "n,m,g = map(int,input().split())\n",
        "rain_time=list(map(int,input().split()))\n",
        "dry_time=list(map(int,input().split()))\n",
        "print(\"rain timings:\",rain_time)\n",
        "print(\"dry time of wet cloths:\",dry_time)\n",
        "\n",
        "time_diff=[]\n",
        "for i in range(len(rain_time)-1):#as it should be 2(3-1) so its iterable as 0, 1, 2\n",
        "  dt=rain_time[i+1]-rain_time[i]\n",
        "  time_diff.append(dt)\n",
        "print(\"time diffrence[interval] between rain-timings\",time_diff)\n",
        "mx=max(time_diff)\n",
        "count=0\n",
        "for i in range(len(dry_time)):\n",
        "  if(dry_time[i] <= mx):\n",
        "     count += 1\n",
        "\n",
        "print(\" maximum number of clothes we can collect until second-tn  \",count)\n",
        "   \n",
        "\n"
      ],
      "execution_count": 76,
      "outputs": [
        {
          "output_type": "stream",
          "text": [
            "3 3 2\n",
            "3 5 8\n",
            "4 1 3\n",
            "rain timings: [3, 5, 8]\n",
            "dry time of wet cloths: [4, 1, 3]\n",
            "time diffrence[interval] between rain-timings [2, 3]\n",
            " maximum number of clothes we can collect until second-tn   2\n"
          ],
          "name": "stdout"
        }
      ]
    }
  ]
}