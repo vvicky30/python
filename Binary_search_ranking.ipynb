{
  "nbformat": 4,
  "nbformat_minor": 0,
  "metadata": {
    "colab": {
      "name": "Binary_search_ranking.ipynb",
      "provenance": [],
      "collapsed_sections": [],
      "authorship_tag": "ABX9TyMhsmYjEz8PuBJDdIPWj1jd",
      "include_colab_link": true
    },
    "kernelspec": {
      "name": "python3",
      "display_name": "Python 3"
    }
  },
  "cells": [
    {
      "cell_type": "markdown",
      "metadata": {
        "id": "view-in-github",
        "colab_type": "text"
      },
      "source": [
        "<a href=\"https://colab.research.google.com/github/vvicky30/python/blob/master/Binary_search_ranking.ipynb\" target=\"_parent\"><img src=\"https://colab.research.google.com/assets/colab-badge.svg\" alt=\"Open In Colab\"/></a>"
      ]
    },
    {
      "cell_type": "markdown",
      "metadata": {
        "id": "nJ-IXn-5ijS-",
        "colab_type": "text"
      },
      "source": [
        "#Rank It\n",
        "You have been given an array A consisting of N integers. All the elements in this array A are unique. You have to answer some queries based on the elements of this array. Each query will consist of a single integer x. You need to print the rank based position of this element in this array considering that the array is 1 indexed. The rank based position of an element in an array is its position in the array when the array has been sorted in ascending order.\n",
        "\n",
        "##Note: It is guaranteed that all the elements in this array are unique and for each x belonging to a query, value x shall exist in the array\n",
        "\n",
        "##Input Format\n",
        "\n",
        "The first line consists of a single integer N denoting the size of array A. The next line contains N unique integers, denoting the content of array A. The next line contains a single integer q denoting the number of queries. Each of the next q lines contains a single integer x denoting the element whose rank based position needs to be printed.\n",
        "\n",
        "##Output Format\n",
        "\n",
        "You need to print q integers denoting the answer to each query.\n",
        "\n",
        "##sample input:\n",
        "5\n",
        "\n",
        "1  2  3 4 5\n",
        "\n",
        "5\n",
        "\n",
        "1\n",
        "\n",
        "2\n",
        "\n",
        "3\n",
        "\n",
        "4\n",
        "\n",
        "5\n",
        "\n",
        "##sample output:\n",
        "1\n",
        "\n",
        "2\n",
        "\n",
        "3\n",
        "\n",
        "4\n",
        "\n",
        "5\n"
      ]
    },
    {
      "cell_type": "code",
      "metadata": {
        "id": "kU2MpRXJc5iJ",
        "colab_type": "code",
        "colab": {
          "base_uri": "https://localhost:8080/",
          "height": 235
        },
        "outputId": "9f7fec04-7434-44b5-d6a1-1646be794d7d"
      },
      "source": [
        "def binary_search(arr, x): \n",
        "    low = 0\n",
        "    high = len(arr) - 1\n",
        "     # optimization: pooled variable \n",
        "    mid = 0\n",
        "  \n",
        "    while low <= high: \n",
        "  \n",
        "        mid = (high + low) // 2\n",
        "        \n",
        "  \n",
        "        if arr[mid] < x: \n",
        "            low = mid + 1\n",
        "  \n",
        "        # If x is greater, ignore left half \n",
        "        elif arr[mid] > x: \n",
        "            high = mid - 1\n",
        "  \n",
        "        # If x is smaller, ignore right half \n",
        "        else: \n",
        "            return mid \n",
        "        # if x is in middle position then return middle  \n",
        "n=int(input())\n",
        "arr= list(map(int,input().split()))[:n]\n",
        "n_q=int(input())\n",
        "for i in range(n_q):\n",
        "  x=int(input())\n",
        "\n",
        "  pos=binary_search(arr,x)\n",
        "  print(pos+1)\n"
      ],
      "execution_count": 19,
      "outputs": [
        {
          "output_type": "stream",
          "text": [
            "5\n",
            "1 2 3 4 5\n",
            "5\n",
            "1\n",
            "1\n",
            "2\n",
            "2\n",
            "3\n",
            "3\n",
            "4\n",
            "4\n",
            "5\n",
            "5\n"
          ],
          "name": "stdout"
        }
      ]
    }
  ]
}