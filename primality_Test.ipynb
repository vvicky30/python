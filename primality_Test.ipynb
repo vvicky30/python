{
  "nbformat": 4,
  "nbformat_minor": 0,
  "metadata": {
    "colab": {
      "name": "primality Test.ipynb",
      "provenance": [],
      "authorship_tag": "ABX9TyMFBCJkdlAle90xkfoAJwk6",
      "include_colab_link": true
    },
    "kernelspec": {
      "name": "python3",
      "display_name": "Python 3"
    }
  },
  "cells": [
    {
      "cell_type": "markdown",
      "metadata": {
        "id": "view-in-github",
        "colab_type": "text"
      },
      "source": [
        "<a href=\"https://colab.research.google.com/github/vvicky30/python/blob/master/primality_Test.ipynb\" target=\"_parent\"><img src=\"https://colab.research.google.com/assets/colab-badge.svg\" alt=\"Open In Colab\"/></a>"
      ]
    },
    {
      "cell_type": "code",
      "metadata": {
        "colab": {
          "base_uri": "https://localhost:8080/"
        },
        "id": "ET8zRmOtKhS7",
        "outputId": "9c8e15f5-af7a-4909-b9a1-4b9f0456f17a"
      },
      "source": [
        "#primality test\n",
        "# its whole number greater than 1 which either devided by '1' or number itself(prime numbers are whole numbers greater than 1, that have only two factors  1 and the number itself.)\n",
        "#there are two approaches:\n",
        "\"\"\"\n",
        "approach-1: where its checks numbers with loops are devisors of that particular number or not but if its, then there should be 2 devisors only(so its prime no.),if its exceeds to more than 2 divsors then its not prime number \n",
        "time complexity:o(n)\n",
        "approach-2:  base cases and sqrt-looping from 5(a number after base cases)-time complexity:o(sqrt(n))\n",
        "\"\"\"\n",
        "from math import sqrt\n",
        "def approach1(n):\n",
        "  devct=0\n",
        "  for i in range(1,n+1):  #[0,n]    \n",
        "    if n%i==0:\n",
        "      devct +=1\n",
        "  if devct==2:  #o(1)\n",
        "    return True\n",
        "  else:\n",
        "    return False\n",
        "\n",
        "def approach2(n):\n",
        "  if n==0 or n==1: #o(1)\n",
        "    return False\n",
        "  if n==2 or n==3: #o(1)\n",
        "    return True\n",
        "  if n%2==0 or n%3==0: #o(1)\n",
        "    return False\n",
        "    #as we already knows that '4' is not prime number as its modulo with 2 is eual to zero so we starts out loop with '5'\n",
        "  for i in range (5,int(sqrt(n))+1): #o(sqrt(n))\n",
        "    if n%i==0 or n%(i+2)==0:\n",
        "      return False\n",
        "\n",
        "  return True \n",
        "\n",
        "\n",
        "t=int(input())\n",
        "while t:\n",
        "  n=int(input())\n",
        "  print(\"output of Approach1:\",approach1(n))\n",
        "  print(\"output of approach2:\",approach2(n))\n",
        "  t=t-1  "
      ],
      "execution_count": 8,
      "outputs": [
        {
          "output_type": "stream",
          "text": [
            "5\n",
            "5\n",
            "output of Approach1: True\n",
            "output of approach2: True\n",
            "6\n",
            "output of Approach1: False\n",
            "output of approach2: False\n",
            "13\n",
            "output of Approach1: True\n",
            "output of approach2: True\n",
            "15\n",
            "output of Approach1: False\n",
            "output of approach2: False\n",
            "17\n",
            "output of Approach1: True\n",
            "output of approach2: True\n"
          ],
          "name": "stdout"
        }
      ]
    }
  ]
}