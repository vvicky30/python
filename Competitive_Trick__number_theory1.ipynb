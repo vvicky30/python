{
  "nbformat": 4,
  "nbformat_minor": 0,
  "metadata": {
    "colab": {
      "name": "Competitive_Trick _number_theory1.ipynb",
      "provenance": [],
      "authorship_tag": "ABX9TyP6hGqgED9TaSEgfmNMIwbB",
      "include_colab_link": true
    },
    "kernelspec": {
      "name": "python3",
      "display_name": "Python 3"
    }
  },
  "cells": [
    {
      "cell_type": "markdown",
      "metadata": {
        "id": "view-in-github",
        "colab_type": "text"
      },
      "source": [
        "<a href=\"https://colab.research.google.com/github/vvicky30/python/blob/master/Competitive_Trick__number_theory1.ipynb\" target=\"_parent\"><img src=\"https://colab.research.google.com/assets/colab-badge.svg\" alt=\"Open In Colab\"/></a>"
      ]
    },
    {
      "cell_type": "code",
      "metadata": {
        "colab": {
          "base_uri": "https://localhost:8080/"
        },
        "id": "RHgke_cx2dWS",
        "outputId": "bd0e2832-4dae-4bc7-9c15-7214b28f1d7e"
      },
      "source": [
        "from math import sqrt \n",
        "def fun1(n):\n",
        "   #naive approach as it hAS TIME COMPLEXITY = o(n)\n",
        "   div1=[]\n",
        "   for i in range(1, n+1): #[1,n]\n",
        "     if n%i==0:\n",
        "       div1.append(i)\n",
        "   return div1\n",
        "\n",
        "\n",
        "def fun2(n):\n",
        "  #prefered approach where its has TIME COMPLEXITY = o(sqrt(n))\n",
        "  div2=set()\n",
        "  for i in range(1,int(sqrt(n))+1): #[1,sqrt(n)]\n",
        "    if n%i==0:\n",
        "      div2.add(i)\n",
        "      div2.add(n//i)\n",
        "  return list(div2)\n",
        "       \n",
        "#Driver code\n",
        "t=int(input())\n",
        "while t: #while its true(+ve) value\n",
        "  n=int(input())\n",
        "  div1=fun1(n)\n",
        "  print(*div1)\n",
        "  div2=fun2(n)\n",
        "  print(*div2)\n",
        "  t=t-1\n",
        "\"\"\"\n",
        "as in above algorithm of fun2 which is preferable approach where its able to calculate  all divisors of 24 in time complexity sqrt(24)=4.8(floor eqivalent=4)\n",
        "as \n",
        "first of all i=1    then its 24%1==0  then 24//1=24  so both values 1 and 24 appended to set(further converted to list during 'return')\n",
        "in same way now i=2 then 24%2==0   then24//2=12      so both values 2 and 12 appended to set\n",
        "in same way now i=3 then 24%3==0   then24//3=8      so both values 3 and 8 appended to set\n",
        "in same way now i=4 then 24%4==0   then24//4=6      so both values 4 and 6 appended to set\n",
        "and thus result is = 1 2 3 4 6 8 12 24\n",
        "\n",
        "where naive algorithm checks for modulo with 24 should be zero for each and every number within 1 and 24+1\n",
        "\"\"\"  \n"
      ],
      "execution_count": 4,
      "outputs": [
        {
          "output_type": "stream",
          "text": [
            "1\n",
            "24\n",
            "1 2 3 4 6 8 12 24\n",
            "1 2 3 4 6 8 12 24\n"
          ],
          "name": "stdout"
        }
      ]
    },
    {
      "cell_type": "code",
      "metadata": {
        "colab": {
          "base_uri": "https://localhost:8080/"
        },
        "id": "kaiyW6-eGf4T",
        "outputId": "279bbdd4-e334-4ba8-a749-45d7602c4f13"
      },
      "source": [
        "#above we used *div & *div to print the list without bracket    as: 1 2 3 4 6 8 12 24  but not in this form: [1 2 3 4 6 8 12 24]\n",
        "#naive approach to do so :---\n",
        "DER=[1,2,3,5,6,7,8]\n",
        "for i in range(0,len(DER)):\n",
        "  print(DER[i],end=\" \")\n",
        "#but its too leanthy to code \n",
        "#we can simply do this by:\n",
        "print(\"\\n\",DER)#normal\n",
        "print(*DER)"
      ],
      "execution_count": 12,
      "outputs": [
        {
          "output_type": "stream",
          "text": [
            "1 2 3 5 6 7 8 \n",
            " [1, 2, 3, 5, 6, 7, 8]\n",
            "1 2 3 5 6 7 8\n"
          ],
          "name": "stdout"
        }
      ]
    }
  ]
}