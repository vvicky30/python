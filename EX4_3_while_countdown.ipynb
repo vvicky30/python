{
  "nbformat": 4,
  "nbformat_minor": 0,
  "metadata": {
    "colab": {
      "name": "EX4.3_while_countdown",
      "provenance": [],
      "collapsed_sections": [],
      "authorship_tag": "ABX9TyOVNEpKAVQiooShNHSX0TXk",
      "include_colab_link": true
    },
    "kernelspec": {
      "name": "python3",
      "display_name": "Python 3"
    }
  },
  "cells": [
    {
      "cell_type": "markdown",
      "metadata": {
        "id": "view-in-github",
        "colab_type": "text"
      },
      "source": [
        "<a href=\"https://colab.research.google.com/github/vvicky30/python/blob/master/EX4_3_while_countdown.ipynb\" target=\"_parent\"><img src=\"https://colab.research.google.com/assets/colab-badge.svg\" alt=\"Open In Colab\"/></a>"
      ]
    },
    {
      "cell_type": "code",
      "metadata": {
        "id": "CJOZUbUI7T9v",
        "colab_type": "code",
        "colab": {
          "base_uri": "https://localhost:8080/",
          "height": 272
        },
        "outputId": "18ea48ac-07a6-4987-ffbf-bd262ee614d7"
      },
      "source": [
        "import time\n",
        "countDown = int(input(\"enter the TIME-NUMBER for START  rocket-launch COUNTDOWN:-\")) #initialization\n",
        "time.sleep(2)# 2sec time delay\n",
        "print(\"rocket is ready for the LAUNCH\")\n",
        "choice=input(\"If you are ready to launch then press 'Y/y'\")\n",
        "if choice=='Y' or choice=='y':\n",
        "\n",
        "   while (countDown >= 0):\n",
        "      print(\"Tik Tik...\",countDown)\n",
        "      countDown = countDown - 1\n",
        "      time.sleep(3)# 3sec time delay\n",
        "   print(\"finally ROCKET has been launched\")\n",
        "else:\n",
        "  print(\"as per high-command ROCKET-LAUNCH process is being DELEYED\")"
      ],
      "execution_count": 7,
      "outputs": [
        {
          "output_type": "stream",
          "text": [
            "enter the TIME-NUMBER for START  rocket-launch COUNTDOWN:-10\n",
            "rocket is ready for the LAUNCH\n",
            "If you are ready to launch then press 'Y/y'y\n",
            "Tik Tik... 10\n",
            "Tik Tik... 9\n",
            "Tik Tik... 8\n",
            "Tik Tik... 7\n",
            "Tik Tik... 6\n",
            "Tik Tik... 5\n",
            "Tik Tik... 4\n",
            "Tik Tik... 3\n",
            "Tik Tik... 2\n",
            "Tik Tik... 1\n",
            "Tik Tik... 0\n",
            "finally ROCKET has been launched\n"
          ],
          "name": "stdout"
        }
      ]
    }
  ]
}