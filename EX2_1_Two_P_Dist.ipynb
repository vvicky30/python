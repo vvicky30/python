{
  "nbformat": 4,
  "nbformat_minor": 0,
  "metadata": {
    "colab": {
      "name": "EX2.1_Two_P_Dist.ipynb",
      "provenance": [],
      "collapsed_sections": [],
      "include_colab_link": true
    },
    "kernelspec": {
      "name": "python3",
      "display_name": "Python 3"
    }
  },
  "cells": [
    {
      "cell_type": "markdown",
      "metadata": {
        "id": "view-in-github",
        "colab_type": "text"
      },
      "source": [
        "<a href=\"https://colab.research.google.com/github/vvicky30/python/blob/master/EX2_1_Two_P_Dist.ipynb\" target=\"_parent\"><img src=\"https://colab.research.google.com/assets/colab-badge.svg\" alt=\"Open In Colab\"/></a>"
      ]
    },
    {
      "cell_type": "code",
      "metadata": {
        "id": "WVil9ba2URDe",
        "colab_type": "code",
        "colab": {
          "base_uri": "https://localhost:8080/",
          "height": 136
        },
        "outputId": "f7940421-f918-407a-d048-77ae7f47d8d1"
      },
      "source": [
        "import math\n",
        "#for taking input from user:\n",
        "print(\"plz,enter cordinates of 1-point:\" )\n",
        "X1=float(input())\n",
        "Y1=float(input())\n",
        "print(\"now,Enter the cordinates of 2-point:\")\n",
        "X2=float(input())\n",
        "Y2=float(input())\n",
        "\n",
        "# Function to calculate distance \n",
        "def Dist_Btw_points(x1 , y1 , x2 , y2): \n",
        "  \n",
        "    # Calculating distance \n",
        "    return math.sqrt(math.pow(x2 - x1, 2) +\n",
        "                math.pow(y2 - y1, 2) * 1.0)   #according to mathematical formlula := (X2-X1)^2 + (y2-y1)^2 *1.0(reamains-float)\n",
        "\n",
        "      \n",
        "# Drivers Code \n",
        "print(\"distance between two points is\",\"%.6f\"% Dist_Btw_points(X1, Y1, X2, Y2)) #.6f for allowing atmost 6 decimal-values\n",
        "  "
      ],
      "execution_count": 5,
      "outputs": [
        {
          "output_type": "stream",
          "text": [
            "plz,enter cordinates of 1-point:\n",
            "3\n",
            "4\n",
            "now,Enter the cordinates of 2-point:\n",
            "4\n",
            "3\n",
            "distance between two points is 1.414214\n"
          ],
          "name": "stdout"
        }
      ]
    }
  ]
}