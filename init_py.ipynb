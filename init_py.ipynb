{
  "nbformat": 4,
  "nbformat_minor": 0,
  "metadata": {
    "colab": {
      "name": "init_py.ipynb",
      "provenance": [],
      "collapsed_sections": [],
      "authorship_tag": "ABX9TyP86tIYKI32AU83slsY0uvq",
      "include_colab_link": true
    },
    "kernelspec": {
      "name": "python3",
      "display_name": "Python 3"
    }
  },
  "cells": [
    {
      "cell_type": "markdown",
      "metadata": {
        "id": "view-in-github",
        "colab_type": "text"
      },
      "source": [
        "<a href=\"https://colab.research.google.com/github/vvicky30/python/blob/master/init_py.ipynb\" target=\"_parent\"><img src=\"https://colab.research.google.com/assets/colab-badge.svg\" alt=\"Open In Colab\"/></a>"
      ]
    },
    {
      "cell_type": "code",
      "metadata": {
        "id": "bJtgowu3P3BP",
        "colab_type": "code",
        "colab": {}
      },
      "source": [
        "import pandas as pd"
      ],
      "execution_count": 0,
      "outputs": []
    },
    {
      "cell_type": "code",
      "metadata": {
        "id": "mx6F-iSDasVb",
        "colab_type": "code",
        "colab": {
          "base_uri": "https://localhost:8080/",
          "height": 34
        },
        "outputId": "e35f699d-106a-4e2e-ba2e-6d03e693ffc5"
      },
      "source": [
        "v= \"vedantbhatt\"\n",
        "v.split(\"t\")"
      ],
      "execution_count": 8,
      "outputs": [
        {
          "output_type": "execute_result",
          "data": {
            "text/plain": [
              "['vedan', 'bha', '', '']"
            ]
          },
          "metadata": {
            "tags": []
          },
          "execution_count": 8
        }
      ]
    },
    {
      "cell_type": "code",
      "metadata": {
        "id": "8DlxsUX7i5rF",
        "colab_type": "code",
        "colab": {
          "base_uri": "https://localhost:8080/",
          "height": 34
        },
        "outputId": "2085043d-47d3-4ab6-c9a8-20ad7b529d5e"
      },
      "source": [
        "v.upper()"
      ],
      "execution_count": 9,
      "outputs": [
        {
          "output_type": "execute_result",
          "data": {
            "text/plain": [
              "'VEDANTBHATT'"
            ]
          },
          "metadata": {
            "tags": []
          },
          "execution_count": 9
        }
      ]
    },
    {
      "cell_type": "code",
      "metadata": {
        "id": "zKv5p_XGi-0O",
        "colab_type": "code",
        "colab": {
          "base_uri": "https://localhost:8080/",
          "height": 34
        },
        "outputId": "50b779f2-8156-40d9-f093-7ecc38856dac"
      },
      "source": [
        "v.capitalize()"
      ],
      "execution_count": 10,
      "outputs": [
        {
          "output_type": "execute_result",
          "data": {
            "text/plain": [
              "'Vedantbhatt'"
            ]
          },
          "metadata": {
            "tags": []
          },
          "execution_count": 10
        }
      ]
    },
    {
      "cell_type": "code",
      "metadata": {
        "id": "ClutQj2RjGBb",
        "colab_type": "code",
        "colab": {
          "base_uri": "https://localhost:8080/",
          "height": 34
        },
        "outputId": "23f615e2-b3de-450b-9fda-a679c798a8f6"
      },
      "source": [
        "v[::-1]#resverse"
      ],
      "execution_count": 13,
      "outputs": [
        {
          "output_type": "execute_result",
          "data": {
            "text/plain": [
              "'ttahbtnadev'"
            ]
          },
          "metadata": {
            "tags": []
          },
          "execution_count": 13
        }
      ]
    },
    {
      "cell_type": "code",
      "metadata": {
        "id": "wCKTDi5Kjo5j",
        "colab_type": "code",
        "colab": {
          "base_uri": "https://localhost:8080/",
          "height": 34
        },
        "outputId": "8541d76a-b88e-4694-baf9-8b4573f0ed65"
      },
      "source": [
        "v[2:4]#slicing"
      ],
      "execution_count": 14,
      "outputs": [
        {
          "output_type": "execute_result",
          "data": {
            "text/plain": [
              "'da'"
            ]
          },
          "metadata": {
            "tags": []
          },
          "execution_count": 14
        }
      ]
    },
    {
      "cell_type": "code",
      "metadata": {
        "id": "s6SuDhacl5OO",
        "colab_type": "code",
        "colab": {
          "base_uri": "https://localhost:8080/",
          "height": 34
        },
        "outputId": "41d9d58f-b29b-4d49-f29a-1d78283c718d"
      },
      "source": [
        "insects=['ant', 'cockroach','bee']\n",
        "insects[len(insects):]='c'#without append-fn\n",
        "insects"
      ],
      "execution_count": 20,
      "outputs": [
        {
          "output_type": "execute_result",
          "data": {
            "text/plain": [
              "['ant', 'cockroach', 'bee', 'c']"
            ]
          },
          "metadata": {
            "tags": []
          },
          "execution_count": 20
        }
      ]
    },
    {
      "cell_type": "code",
      "metadata": {
        "id": "k-vdvVkXoJNO",
        "colab_type": "code",
        "colab": {}
      },
      "source": [
        "t=(\"dgr\",{\"name\":\"n\"})"
      ],
      "execution_count": 0,
      "outputs": []
    },
    {
      "cell_type": "code",
      "metadata": {
        "id": "jFAdSFuCoSdz",
        "colab_type": "code",
        "colab": {
          "base_uri": "https://localhost:8080/",
          "height": 34
        },
        "outputId": "58f95bf9-8dfc-4dfd-e911-8dbbce661d8c"
      },
      "source": [
        "t[1][\"name\"]"
      ],
      "execution_count": 23,
      "outputs": [
        {
          "output_type": "execute_result",
          "data": {
            "text/plain": [
              "'n'"
            ]
          },
          "metadata": {
            "tags": []
          },
          "execution_count": 23
        }
      ]
    },
    {
      "cell_type": "code",
      "metadata": {
        "id": "GnHnJ4H4ocX1",
        "colab_type": "code",
        "colab": {
          "base_uri": "https://localhost:8080/",
          "height": 34
        },
        "outputId": "d3016f5d-904e-48df-a72b-0c7d6522f68c"
      },
      "source": [
        "\n",
        "unit_tuple = \"hello\",\n",
        "print(type(unit_tuple))  # <class 'tuple'>\n"
      ],
      "execution_count": 24,
      "outputs": [
        {
          "output_type": "stream",
          "text": [
            "<class 'tuple'>\n"
          ],
          "name": "stdout"
        }
      ]
    },
    {
      "cell_type": "code",
      "metadata": {
        "id": "FvzElAtIr39D",
        "colab_type": "code",
        "colab": {
          "base_uri": "https://localhost:8080/",
          "height": 34
        },
        "outputId": "c110a05c-57ee-4865-802f-f7f2f50001ee"
      },
      "source": [
        "l1=[1,2,3,4,5]\n",
        "l2=[6,7,8,9]\n",
        "d=list(zip(l1,l2))#with the help of zip we can iterate lopp on several datatypes in single innings\n",
        "d"
      ],
      "execution_count": 27,
      "outputs": [
        {
          "output_type": "execute_result",
          "data": {
            "text/plain": [
              "[(1, 6), (2, 7), (3, 8), (4, 9)]"
            ]
          },
          "metadata": {
            "tags": []
          },
          "execution_count": 27
        }
      ]
    },
    {
      "cell_type": "code",
      "metadata": {
        "id": "3LAQch9ysY7b",
        "colab_type": "code",
        "colab": {
          "base_uri": "https://localhost:8080/",
          "height": 34
        },
        "outputId": "a0acbb0a-2ee7-41e3-a198-af68b8c8a298"
      },
      "source": [
        "v_letters = [ letter for letter in 'vedant' ]\n",
        "print( v_letters)"
      ],
      "execution_count": 25,
      "outputs": [
        {
          "output_type": "stream",
          "text": [
            "['v', 'e', 'd', 'a', 'n', 't']\n"
          ],
          "name": "stdout"
        }
      ]
    },
    {
      "cell_type": "code",
      "metadata": {
        "id": "oPV1E4Cns-Nv",
        "colab_type": "code",
        "colab": {
          "base_uri": "https://localhost:8080/",
          "height": 484
        },
        "outputId": "2d4b8297-8db7-4bbb-b988-c573a91c8aa1"
      },
      "source": [
        "prime=[x for x in range(0, 100)\n",
        "     if all(x % y != 0 for y in range(2, x))]\n",
        "prime"
      ],
      "execution_count": 39,
      "outputs": [
        {
          "output_type": "execute_result",
          "data": {
            "text/plain": [
              "[0,\n",
              " 1,\n",
              " 2,\n",
              " 3,\n",
              " 5,\n",
              " 7,\n",
              " 11,\n",
              " 13,\n",
              " 17,\n",
              " 19,\n",
              " 23,\n",
              " 29,\n",
              " 31,\n",
              " 37,\n",
              " 41,\n",
              " 43,\n",
              " 47,\n",
              " 53,\n",
              " 59,\n",
              " 61,\n",
              " 67,\n",
              " 71,\n",
              " 73,\n",
              " 79,\n",
              " 83,\n",
              " 89,\n",
              " 97]"
            ]
          },
          "metadata": {
            "tags": []
          },
          "execution_count": 39
        }
      ]
    },
    {
      "cell_type": "code",
      "metadata": {
        "id": "NYv79KNNwDUc",
        "colab_type": "code",
        "colab": {
          "base_uri": "https://localhost:8080/",
          "height": 34
        },
        "outputId": "58b932c8-f87a-463a-8f33-85cfa7181da9"
      },
      "source": [
        "b=\"v\"\n",
        "c=\"e\"\n",
        "v=\"d\"\n",
        "n=\"a\"\n",
        "if(b==\"v\" and c==\"e\" and v==\"d\" and n==\"a\"):\n",
        "  print(\"you are right\")"
      ],
      "execution_count": 45,
      "outputs": [
        {
          "output_type": "stream",
          "text": [
            "you are right\n"
          ],
          "name": "stdout"
        }
      ]
    },
    {
      "cell_type": "code",
      "metadata": {
        "id": "c0kKOQuAuhtR",
        "colab_type": "code",
        "colab": {
          "base_uri": "https://localhost:8080/",
          "height": 34
        },
        "outputId": "2795398f-2bd7-4746-b8c9-1c5810df6655"
      },
      "source": [
        "type(b)"
      ],
      "execution_count": 44,
      "outputs": [
        {
          "output_type": "execute_result",
          "data": {
            "text/plain": [
              "str"
            ]
          },
          "metadata": {
            "tags": []
          },
          "execution_count": 44
        }
      ]
    },
    {
      "cell_type": "code",
      "metadata": {
        "id": "dj3jfjzWzsBn",
        "colab_type": "code",
        "colab": {
          "base_uri": "https://localhost:8080/",
          "height": 34
        },
        "outputId": "c5d4ef16-b48c-4b0a-9f7d-de887ff821aa"
      },
      "source": [
        "#recursionprogram for the checking no. in the given list\n",
        "def check(l):\n",
        "  if len(l)==0:\n",
        "    return False\n",
        "  if l[0]==2:\n",
        "    return True\n",
        "  return check(l[1:])\n",
        "\n",
        "ss=[1,24,5,6,7]\n",
        "print(check(ss))\n"
      ],
      "execution_count": 65,
      "outputs": [
        {
          "output_type": "stream",
          "text": [
            "False\n"
          ],
          "name": "stdout"
        }
      ]
    },
    {
      "cell_type": "code",
      "metadata": {
        "id": "gNBCDYAk49rB",
        "colab_type": "code",
        "colab": {
          "base_uri": "https://localhost:8080/",
          "height": 121
        },
        "outputId": "3f6e80a5-a7ad-4b89-8fc5-7e824a8ec3d8"
      },
      "source": [
        "import numpy as np\n",
        "l=[[1,2,3,4]]\n",
        "a=np.array(l)\n",
        "print(a)\n",
        "print(\"a's dimention\",a.shape)\n",
        "l1=[l,l]\n",
        "b=np.array(l1)\n",
        "print(b)\n",
        "print(\"b's dimention\",b.shape)\n"
      ],
      "execution_count": 75,
      "outputs": [
        {
          "output_type": "stream",
          "text": [
            "[[1 2 3 4]]\n",
            "a's dimention (1, 4)\n",
            "[[[1 2 3 4]]\n",
            "\n",
            " [[1 2 3 4]]]\n",
            "b's dimention (2, 1, 4)\n"
          ],
          "name": "stdout"
        }
      ]
    },
    {
      "cell_type": "code",
      "metadata": {
        "id": "eL72MpHHSAgQ",
        "colab_type": "code",
        "colab": {
          "base_uri": "https://localhost:8080/",
          "height": 1000
        },
        "outputId": "e19c42ee-ac13-46cd-e09c-8c8105785a6d"
      },
      "source": [
        "l1=[1,2,3,4,5,6,7]   \n",
        "l2=[l1,l1,l1,l1,l1,l1]\n",
        "l3=[l2,l2,l2,l2,l2]\n",
        "l4=[l3,l3]\n",
        "l5=[l4,l4,l4]\n",
        "b=np.array(l5)\n",
        "print(\"b's shape\",b.shape)\n",
        "print(\"b's matrix\",b)\n",
        "print(\"b's size\",b.size)\n"
      ],
      "execution_count": 86,
      "outputs": [
        {
          "output_type": "stream",
          "text": [
            "b's shape (3, 2, 5, 6, 7)\n",
            "b's matrix [[[[[1 2 3 ... 5 6 7]\n",
            "    [1 2 3 ... 5 6 7]\n",
            "    [1 2 3 ... 5 6 7]\n",
            "    [1 2 3 ... 5 6 7]\n",
            "    [1 2 3 ... 5 6 7]\n",
            "    [1 2 3 ... 5 6 7]]\n",
            "\n",
            "   [[1 2 3 ... 5 6 7]\n",
            "    [1 2 3 ... 5 6 7]\n",
            "    [1 2 3 ... 5 6 7]\n",
            "    [1 2 3 ... 5 6 7]\n",
            "    [1 2 3 ... 5 6 7]\n",
            "    [1 2 3 ... 5 6 7]]\n",
            "\n",
            "   [[1 2 3 ... 5 6 7]\n",
            "    [1 2 3 ... 5 6 7]\n",
            "    [1 2 3 ... 5 6 7]\n",
            "    [1 2 3 ... 5 6 7]\n",
            "    [1 2 3 ... 5 6 7]\n",
            "    [1 2 3 ... 5 6 7]]\n",
            "\n",
            "   [[1 2 3 ... 5 6 7]\n",
            "    [1 2 3 ... 5 6 7]\n",
            "    [1 2 3 ... 5 6 7]\n",
            "    [1 2 3 ... 5 6 7]\n",
            "    [1 2 3 ... 5 6 7]\n",
            "    [1 2 3 ... 5 6 7]]\n",
            "\n",
            "   [[1 2 3 ... 5 6 7]\n",
            "    [1 2 3 ... 5 6 7]\n",
            "    [1 2 3 ... 5 6 7]\n",
            "    [1 2 3 ... 5 6 7]\n",
            "    [1 2 3 ... 5 6 7]\n",
            "    [1 2 3 ... 5 6 7]]]\n",
            "\n",
            "\n",
            "  [[[1 2 3 ... 5 6 7]\n",
            "    [1 2 3 ... 5 6 7]\n",
            "    [1 2 3 ... 5 6 7]\n",
            "    [1 2 3 ... 5 6 7]\n",
            "    [1 2 3 ... 5 6 7]\n",
            "    [1 2 3 ... 5 6 7]]\n",
            "\n",
            "   [[1 2 3 ... 5 6 7]\n",
            "    [1 2 3 ... 5 6 7]\n",
            "    [1 2 3 ... 5 6 7]\n",
            "    [1 2 3 ... 5 6 7]\n",
            "    [1 2 3 ... 5 6 7]\n",
            "    [1 2 3 ... 5 6 7]]\n",
            "\n",
            "   [[1 2 3 ... 5 6 7]\n",
            "    [1 2 3 ... 5 6 7]\n",
            "    [1 2 3 ... 5 6 7]\n",
            "    [1 2 3 ... 5 6 7]\n",
            "    [1 2 3 ... 5 6 7]\n",
            "    [1 2 3 ... 5 6 7]]\n",
            "\n",
            "   [[1 2 3 ... 5 6 7]\n",
            "    [1 2 3 ... 5 6 7]\n",
            "    [1 2 3 ... 5 6 7]\n",
            "    [1 2 3 ... 5 6 7]\n",
            "    [1 2 3 ... 5 6 7]\n",
            "    [1 2 3 ... 5 6 7]]\n",
            "\n",
            "   [[1 2 3 ... 5 6 7]\n",
            "    [1 2 3 ... 5 6 7]\n",
            "    [1 2 3 ... 5 6 7]\n",
            "    [1 2 3 ... 5 6 7]\n",
            "    [1 2 3 ... 5 6 7]\n",
            "    [1 2 3 ... 5 6 7]]]]\n",
            "\n",
            "\n",
            "\n",
            " [[[[1 2 3 ... 5 6 7]\n",
            "    [1 2 3 ... 5 6 7]\n",
            "    [1 2 3 ... 5 6 7]\n",
            "    [1 2 3 ... 5 6 7]\n",
            "    [1 2 3 ... 5 6 7]\n",
            "    [1 2 3 ... 5 6 7]]\n",
            "\n",
            "   [[1 2 3 ... 5 6 7]\n",
            "    [1 2 3 ... 5 6 7]\n",
            "    [1 2 3 ... 5 6 7]\n",
            "    [1 2 3 ... 5 6 7]\n",
            "    [1 2 3 ... 5 6 7]\n",
            "    [1 2 3 ... 5 6 7]]\n",
            "\n",
            "   [[1 2 3 ... 5 6 7]\n",
            "    [1 2 3 ... 5 6 7]\n",
            "    [1 2 3 ... 5 6 7]\n",
            "    [1 2 3 ... 5 6 7]\n",
            "    [1 2 3 ... 5 6 7]\n",
            "    [1 2 3 ... 5 6 7]]\n",
            "\n",
            "   [[1 2 3 ... 5 6 7]\n",
            "    [1 2 3 ... 5 6 7]\n",
            "    [1 2 3 ... 5 6 7]\n",
            "    [1 2 3 ... 5 6 7]\n",
            "    [1 2 3 ... 5 6 7]\n",
            "    [1 2 3 ... 5 6 7]]\n",
            "\n",
            "   [[1 2 3 ... 5 6 7]\n",
            "    [1 2 3 ... 5 6 7]\n",
            "    [1 2 3 ... 5 6 7]\n",
            "    [1 2 3 ... 5 6 7]\n",
            "    [1 2 3 ... 5 6 7]\n",
            "    [1 2 3 ... 5 6 7]]]\n",
            "\n",
            "\n",
            "  [[[1 2 3 ... 5 6 7]\n",
            "    [1 2 3 ... 5 6 7]\n",
            "    [1 2 3 ... 5 6 7]\n",
            "    [1 2 3 ... 5 6 7]\n",
            "    [1 2 3 ... 5 6 7]\n",
            "    [1 2 3 ... 5 6 7]]\n",
            "\n",
            "   [[1 2 3 ... 5 6 7]\n",
            "    [1 2 3 ... 5 6 7]\n",
            "    [1 2 3 ... 5 6 7]\n",
            "    [1 2 3 ... 5 6 7]\n",
            "    [1 2 3 ... 5 6 7]\n",
            "    [1 2 3 ... 5 6 7]]\n",
            "\n",
            "   [[1 2 3 ... 5 6 7]\n",
            "    [1 2 3 ... 5 6 7]\n",
            "    [1 2 3 ... 5 6 7]\n",
            "    [1 2 3 ... 5 6 7]\n",
            "    [1 2 3 ... 5 6 7]\n",
            "    [1 2 3 ... 5 6 7]]\n",
            "\n",
            "   [[1 2 3 ... 5 6 7]\n",
            "    [1 2 3 ... 5 6 7]\n",
            "    [1 2 3 ... 5 6 7]\n",
            "    [1 2 3 ... 5 6 7]\n",
            "    [1 2 3 ... 5 6 7]\n",
            "    [1 2 3 ... 5 6 7]]\n",
            "\n",
            "   [[1 2 3 ... 5 6 7]\n",
            "    [1 2 3 ... 5 6 7]\n",
            "    [1 2 3 ... 5 6 7]\n",
            "    [1 2 3 ... 5 6 7]\n",
            "    [1 2 3 ... 5 6 7]\n",
            "    [1 2 3 ... 5 6 7]]]]\n",
            "\n",
            "\n",
            "\n",
            " [[[[1 2 3 ... 5 6 7]\n",
            "    [1 2 3 ... 5 6 7]\n",
            "    [1 2 3 ... 5 6 7]\n",
            "    [1 2 3 ... 5 6 7]\n",
            "    [1 2 3 ... 5 6 7]\n",
            "    [1 2 3 ... 5 6 7]]\n",
            "\n",
            "   [[1 2 3 ... 5 6 7]\n",
            "    [1 2 3 ... 5 6 7]\n",
            "    [1 2 3 ... 5 6 7]\n",
            "    [1 2 3 ... 5 6 7]\n",
            "    [1 2 3 ... 5 6 7]\n",
            "    [1 2 3 ... 5 6 7]]\n",
            "\n",
            "   [[1 2 3 ... 5 6 7]\n",
            "    [1 2 3 ... 5 6 7]\n",
            "    [1 2 3 ... 5 6 7]\n",
            "    [1 2 3 ... 5 6 7]\n",
            "    [1 2 3 ... 5 6 7]\n",
            "    [1 2 3 ... 5 6 7]]\n",
            "\n",
            "   [[1 2 3 ... 5 6 7]\n",
            "    [1 2 3 ... 5 6 7]\n",
            "    [1 2 3 ... 5 6 7]\n",
            "    [1 2 3 ... 5 6 7]\n",
            "    [1 2 3 ... 5 6 7]\n",
            "    [1 2 3 ... 5 6 7]]\n",
            "\n",
            "   [[1 2 3 ... 5 6 7]\n",
            "    [1 2 3 ... 5 6 7]\n",
            "    [1 2 3 ... 5 6 7]\n",
            "    [1 2 3 ... 5 6 7]\n",
            "    [1 2 3 ... 5 6 7]\n",
            "    [1 2 3 ... 5 6 7]]]\n",
            "\n",
            "\n",
            "  [[[1 2 3 ... 5 6 7]\n",
            "    [1 2 3 ... 5 6 7]\n",
            "    [1 2 3 ... 5 6 7]\n",
            "    [1 2 3 ... 5 6 7]\n",
            "    [1 2 3 ... 5 6 7]\n",
            "    [1 2 3 ... 5 6 7]]\n",
            "\n",
            "   [[1 2 3 ... 5 6 7]\n",
            "    [1 2 3 ... 5 6 7]\n",
            "    [1 2 3 ... 5 6 7]\n",
            "    [1 2 3 ... 5 6 7]\n",
            "    [1 2 3 ... 5 6 7]\n",
            "    [1 2 3 ... 5 6 7]]\n",
            "\n",
            "   [[1 2 3 ... 5 6 7]\n",
            "    [1 2 3 ... 5 6 7]\n",
            "    [1 2 3 ... 5 6 7]\n",
            "    [1 2 3 ... 5 6 7]\n",
            "    [1 2 3 ... 5 6 7]\n",
            "    [1 2 3 ... 5 6 7]]\n",
            "\n",
            "   [[1 2 3 ... 5 6 7]\n",
            "    [1 2 3 ... 5 6 7]\n",
            "    [1 2 3 ... 5 6 7]\n",
            "    [1 2 3 ... 5 6 7]\n",
            "    [1 2 3 ... 5 6 7]\n",
            "    [1 2 3 ... 5 6 7]]\n",
            "\n",
            "   [[1 2 3 ... 5 6 7]\n",
            "    [1 2 3 ... 5 6 7]\n",
            "    [1 2 3 ... 5 6 7]\n",
            "    [1 2 3 ... 5 6 7]\n",
            "    [1 2 3 ... 5 6 7]\n",
            "    [1 2 3 ... 5 6 7]]]]]\n",
            "b's size 1260\n"
          ],
          "name": "stdout"
        }
      ]
    }
  ]
}