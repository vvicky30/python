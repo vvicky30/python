{
  "nbformat": 4,
  "nbformat_minor": 0,
  "metadata": {
    "colab": {
      "name": "picu_bank.ipynb",
      "provenance": [],
      "authorship_tag": "ABX9TyNMsBNSnueZDQIgUqDARP6t",
      "include_colab_link": true
    },
    "kernelspec": {
      "name": "python3",
      "display_name": "Python 3"
    }
  },
  "cells": [
    {
      "cell_type": "markdown",
      "metadata": {
        "id": "view-in-github",
        "colab_type": "text"
      },
      "source": [
        "<a href=\"https://colab.research.google.com/github/vvicky30/python/blob/master/picu_bank.ipynb\" target=\"_parent\"><img src=\"https://colab.research.google.com/assets/colab-badge.svg\" alt=\"Open In Colab\"/></a>"
      ]
    },
    {
      "cell_type": "markdown",
      "metadata": {
        "id": "fXwwFj9MMfrp",
        "colab_type": "text"
      },
      "source": [
        "#picu bank problem of hackerearth (binary_search problem) \n",
        "lvel:easy"
      ]
    },
    {
      "cell_type": "code",
      "metadata": {
        "id": "2at9cBePLg6X",
        "colab_type": "code",
        "colab": {}
      },
      "source": [
        "from sys import stdin,stdout\n",
        "from math import ceil\n",
        "t=int(input())\n",
        "for _ in range(t):\n",
        "  d , a, m, b, x = map(int,stdin.readline().split())\n",
        "  tm = x-d\n",
        "  i=a*m +b\n",
        "  k=tm//i  *(m+1)\n",
        "  o = ceil((tm%i)/a)\n",
        "  stdout.write(str(k+o)+'\\n')"
      ],
      "execution_count": 0,
      "outputs": []
    }
  ]
}