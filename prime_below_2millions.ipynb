{
  "nbformat": 4,
  "nbformat_minor": 0,
  "metadata": {
    "colab": {
      "name": "prime_below_2millions.ipynb",
      "provenance": [],
      "authorship_tag": "ABX9TyP040qbPgrBavJEjr3ra7bu",
      "include_colab_link": true
    },
    "kernelspec": {
      "name": "python3",
      "display_name": "Python 3"
    }
  },
  "cells": [
    {
      "cell_type": "markdown",
      "metadata": {
        "id": "view-in-github",
        "colab_type": "text"
      },
      "source": [
        "<a href=\"https://colab.research.google.com/github/vvicky30/python/blob/master/prime_below_2millions.ipynb\" target=\"_parent\"><img src=\"https://colab.research.google.com/assets/colab-badge.svg\" alt=\"Open In Colab\"/></a>"
      ]
    },
    {
      "cell_type": "code",
      "metadata": {
        "id": "eGTItRLpCkzn",
        "colab_type": "code",
        "colab": {}
      },
      "source": [
        "#Sieve of Eratosthenes:-\n",
        "\"\"\"\n",
        "Sieve of Eratosthenes was as the name implies invented by Eratosthenes who was a Greek Mathematician living around 200 BC.\n",
        "\n",
        "The algorithm needs to have an upper limit for the primes to find. Lets call this limit N\n",
        "\n",
        "The algorithm works as follows.\n",
        "\n",
        "1.Create a list l of consecutive integers {2,3,…,N}.\n",
        "2.Select p as the first prime number in the list, p=2.\n",
        "3.Remove all multiples of p from the l.\n",
        "4.set p equal to the next integer in l which has not been removed.\n",
        "5.Repeat steps 3 and 4 until p2 > N, all the remaining numbers in the list are primes\n",
        "\"\"\""
      ],
      "execution_count": 0,
      "outputs": []
    },
    {
      "cell_type": "code",
      "metadata": {
        "id": "IxcM8rz_EU_-",
        "colab_type": "code",
        "colab": {
          "base_uri": "https://localhost:8080/",
          "height": 34
        },
        "outputId": "600d6244-5c86-4fb5-e3ac-19b7a8fa49a7"
      },
      "source": [
        " #returns True if parameter n is a prime number, False if composite and \"Neither prime, nor composite\".\n",
        "def isPrimeNumber(n):\n",
        "    if n < 2: return \"Neither prime, nor composite\" #condition 2nd in Eratosthenes algo\n",
        "    for i in range(2, int(n**0.5) + 1): #'int(n**0.5)'for taking square-root of n\n",
        "        if n % i == 0: #checking weather there is multiple of n in list or 'i'\n",
        "            return False #if above condn satisfies then number n is FALSE(not prime nor composite)\n",
        "    return True \n",
        "\n",
        "sum = 0 #intialization     \n",
        "for i in range(2, 2000000):#from 2\n",
        "    if isPrimeNumber(i): #until 'sqare(n)' or 'sqrt(n)'> N=2000000(here)\n",
        "        sum += i  #sum=sum+i\n",
        "\n",
        "print (sum)"
      ],
      "execution_count": 1,
      "outputs": [
        {
          "output_type": "stream",
          "text": [
            "142913828922\n"
          ],
          "name": "stdout"
        }
      ]
    }
  ]
}