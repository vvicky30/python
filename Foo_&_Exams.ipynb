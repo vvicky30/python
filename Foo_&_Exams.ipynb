{
  "nbformat": 4,
  "nbformat_minor": 0,
  "metadata": {
    "colab": {
      "name": "Foo & Exams.ipynb",
      "provenance": [],
      "authorship_tag": "ABX9TyNU/h3n9Q3zgtjVFmtg1vVD",
      "include_colab_link": true
    },
    "kernelspec": {
      "name": "python3",
      "display_name": "Python 3"
    }
  },
  "cells": [
    {
      "cell_type": "markdown",
      "metadata": {
        "id": "view-in-github",
        "colab_type": "text"
      },
      "source": [
        "<a href=\"https://colab.research.google.com/github/vvicky30/python/blob/master/Foo_%26_Exams.ipynb\" target=\"_parent\"><img src=\"https://colab.research.google.com/assets/colab-badge.svg\" alt=\"Open In Colab\"/></a>"
      ]
    },
    {
      "cell_type": "markdown",
      "metadata": {
        "id": "rp2gyyID8h0m",
        "colab_type": "text"
      },
      "source": [
        "#problem :\n",
        "Foo was not amongst the most brilliant students of his class. So, he has some pending exams to clear. As the exams are approaching, this time he vowed to pass in all of them. This will only happen if he is not under stress. Foo's stress can be calculated using a simple function called Foo_function which depends upon the time for which Foo studies continuously .\n",
        "\n",
        "Foo_funtion is defined as follows:\n",
        "\n",
        "F(t)=A(t^3)+B(t^2)+C*(t)+D, F(t)<=10^18\n",
        "\n",
        "where A,B,C,D belong to the set of prime numbers. t is the time in minutes for which foo studies continuously.\n",
        "\n",
        "As foo is not very good at solving cubic equations, he seeks your help to find out the maximum number of minutes for which he can study continuously without taking stress. Help him find t such that F(t+1) > K, and F(t) <= K, where K is the maximum stress Foo can bear.\n",
        "\n",
        "##Input:\n",
        "\n",
        "The first line of the input contains a single integer T denoting the number of test cases. each test case consists of a single line containing 5 space seperated positive numbers a, b, c, d, K.\n",
        "\n",
        "##Output:\n",
        "\n",
        "for each test case, output a single integer t denoting the maximum time for which foo can study continuously without taking stress.\n",
        "\n",
        "##Constraints:\n",
        "\n",
        "1 <= T <= 10^4\n",
        "\n",
        "A, B, C, D belong to a set of prime numbers such that F(t) would never exceed 10^18\n",
        "\n",
        "t >= 0\n",
        "\n",
        "1 <= K <= 10^18\n",
        "\n",
        "###input sample :--\n",
        "2\n",
        "\n",
        "2 2 2 2 10\n",
        "\n",
        "2 3 5 7 1000\n",
        "\n",
        "###output sample :---\n",
        "1\n",
        "\n",
        "7"
      ]
    },
    {
      "cell_type": "code",
      "metadata": {
        "id": "n1uQ1WRh0vv5",
        "colab_type": "code",
        "colab": {
          "base_uri": "https://localhost:8080/",
          "height": 100
        },
        "outputId": "7e0a676d-cd4d-47e3-a951-aa56c17dfbc4"
      },
      "source": [
        "T=int(input())\n",
        "for _ in range(T):\n",
        "  a,b,c,d,e=map(int,input().split())\n",
        "  e-=d #e=e-d ....by taking e to other side of euation because its only coeficcient without t variable in cubic euation\n",
        "  lower=0; upper=10000000; ans=0#initializing lower by zero ,upper by maximum possible value pf k(maximum stress of foo)\n",
        "  while (lower<=upper):\n",
        "    mid=(lower+upper)//2\n",
        "    if (a*(mid**3)+b*(mid**2)+c*mid <= e):#if equation is less than eual to e then ans is mid & new lower bound is seted from next of mid\n",
        "      ans=mid\n",
        "      lower=mid+1\n",
        "    else:# in other condition when  euation is more than that of e then set new high as from previos of mid\n",
        "      upper=mid-1\n",
        "  print(ans)\n",
        "\n",
        "\n",
        "         "
      ],
      "execution_count": 8,
      "outputs": [
        {
          "output_type": "stream",
          "text": [
            "2\n",
            "2 2 2 2 10\n",
            "1\n",
            "2 3 5 7 1000\n",
            "7\n"
          ],
          "name": "stdout"
        }
      ]
    }
  ]
}