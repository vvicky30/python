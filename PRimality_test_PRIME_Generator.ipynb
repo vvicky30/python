{
  "nbformat": 4,
  "nbformat_minor": 0,
  "metadata": {
    "colab": {
      "name": "PRimality_test_PRIME_Generator.ipynb",
      "provenance": [],
      "authorship_tag": "ABX9TyOlYaLG1xCsi0rpKMFJP0lB",
      "include_colab_link": true
    },
    "kernelspec": {
      "name": "python3",
      "display_name": "Python 3"
    }
  },
  "cells": [
    {
      "cell_type": "markdown",
      "metadata": {
        "id": "view-in-github",
        "colab_type": "text"
      },
      "source": [
        "<a href=\"https://colab.research.google.com/github/vvicky30/python/blob/master/PRimality_test_PRIME_Generator.ipynb\" target=\"_parent\"><img src=\"https://colab.research.google.com/assets/colab-badge.svg\" alt=\"Open In Colab\"/></a>"
      ]
    },
    {
      "cell_type": "markdown",
      "metadata": {
        "id": "PfRN74lUZw2y"
      },
      "source": [
        "####If we want to generate prime numbers upto 'N' number then what approach should we go for and which is more preferable(with lowest possible time complexity algo):-\r\n",
        "\r\n",
        "#####1. basic approach of doing this task:--\r\n",
        "    For each number from 0 to N:-   --------O(N)\r\n",
        "          Traverse and check for every number wether its prime or not\r\n",
        "          (primality-test)          -----TC=O(sqrt(N))\r\n",
        "               And then print all prime numbers   ------O(1)\r\n",
        "  \r\n",
        "so total time complexity of this approch will be O(N*sqrt(N))\r\n",
        "\r\n",
        "and this sqrt(N) can be tends to N if N is very big numbers arround millions & billions\r\n",
        "             \r\n",
        "    Sqrt(N)-> N [if N very big number Millions or billions]\r\n",
        "        then at this time overall time complexity of this approach will be N*N(quadatic complexity)"
      ]
    },
    {
      "cell_type": "code",
      "metadata": {
        "colab": {
          "base_uri": "https://localhost:8080/"
        },
        "id": "ddHuons7ZZeD",
        "outputId": "30ec0eaa-59a4-40b8-dc8c-f5c86249a96c"
      },
      "source": [
        "# implementing approch-1:-\r\n",
        "from math import *\r\n",
        "def Primality_GenPrime(N):\r\n",
        "\r\n",
        "  primes=[True]*(N+1)#create list of size N+1 which already initialized as True\r\n",
        "  for p in range(0,N+1):\r\n",
        "    primes[2]=True #base conditions of primality  #O(1)\r\n",
        "    primes[3]=True                                #O(1)\r\n",
        "    if p==0 or p==1: #o(1)\r\n",
        "      primes[p]=False\r\n",
        "\r\n",
        "    if p%2==0 or p%3==0: #o(1)\r\n",
        "      primes[p]=False\r\n",
        "    #as we already knows that '4' is not prime number as its modulo with 2 is eual to zero so we starts out loop with '5'\r\n",
        "    for j in range (5,int(sqrt(p))+1): #o(sqrt(n))\r\n",
        "       if p%j==0 or p%(j+2)==0:\r\n",
        "          primes[p]=False\r\n",
        "\r\n",
        "\r\n",
        "  for i in range(0,len(primes)):   #for printing ----O(1) only\r\n",
        "     if primes[i]==True:\r\n",
        "        print(i,end=\" \")\r\n",
        "t=int(input())  \r\n",
        "while t:\r\n",
        "  N=int(input())\r\n",
        "  Primality_GenPrime(N)\r\n",
        "  t=t-1"
      ],
      "execution_count": 21,
      "outputs": [
        {
          "output_type": "stream",
          "text": [
            "3\n",
            "10\n",
            "2 3 5 7 50\n",
            "2 3 5 7 11 13 17 19 23 29 31 37 41 43 47 500\n",
            "2 3 5 7 11 13 17 19 23 29 31 37 41 43 47 53 59 61 67 71 73 79 83 89 97 101 103 107 109 113 127 131 137 139 149 151 157 163 167 173 179 181 191 193 197 199 211 223 227 229 233 239 241 251 257 263 269 271 277 281 283 293 307 311 313 317 331 337 347 349 353 359 367 373 379 383 389 397 401 409 419 421 431 433 439 443 449 457 461 463 467 479 487 491 499 "
          ],
          "name": "stdout"
        }
      ]
    }
  ]
}