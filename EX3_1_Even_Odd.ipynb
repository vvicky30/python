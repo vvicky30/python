{
  "nbformat": 4,
  "nbformat_minor": 0,
  "metadata": {
    "colab": {
      "name": "EX3.1_Even_Odd.ipynb",
      "provenance": [],
      "include_colab_link": true
    },
    "kernelspec": {
      "name": "python3",
      "display_name": "Python 3"
    }
  },
  "cells": [
    {
      "cell_type": "markdown",
      "metadata": {
        "id": "view-in-github",
        "colab_type": "text"
      },
      "source": [
        "<a href=\"https://colab.research.google.com/github/vvicky30/python/blob/master/EX3_1_Even_Odd.ipynb\" target=\"_parent\"><img src=\"https://colab.research.google.com/assets/colab-badge.svg\" alt=\"Open In Colab\"/></a>"
      ]
    },
    {
      "cell_type": "code",
      "metadata": {
        "id": "HxaX2fw0eDbu",
        "colab_type": "code",
        "colab": {
          "base_uri": "https://localhost:8080/",
          "height": 51
        },
        "outputId": "ea14cf02-0859-43d4-8a38-037c61352edb"
      },
      "source": [
        "#Even Odd Program using Modulus Operator  \n",
        "number=int(input(\"enter the number of your choice\"))\n",
        "\n",
        "if(number%2==0):\n",
        "  print(number,\"is Even\")\n",
        "else:\n",
        "  print(number,\"is not Even(Odd)\")\n"
      ],
      "execution_count": 21,
      "outputs": [
        {
          "output_type": "stream",
          "text": [
            "enter the number of your choice3\n",
            "3 is not Even(Odd)\n"
          ],
          "name": "stdout"
        }
      ]
    },
    {
      "cell_type": "code",
      "metadata": {
        "id": "3ZF-spH_p0zQ",
        "colab_type": "code",
        "colab": {
          "base_uri": "https://localhost:8080/",
          "height": 51
        },
        "outputId": "261da9cd-e86a-4f2d-a3ea-fa93e9c7c3c8"
      },
      "source": [
        "#Even Odd Program using bitwise Operator  \n",
        "number=int(input(\"enter the number of your choice\"))\n",
        "\n",
        "if(number&1==1):\n",
        "  print(number,\"is not Even(Odd)\")\n",
        "else:\n",
        "  print(number,\"is Even\")\n"
      ],
      "execution_count": 27,
      "outputs": [
        {
          "output_type": "stream",
          "text": [
            "enter the number of your choice6\n",
            "6 is Even\n"
          ],
          "name": "stdout"
        }
      ]
    },
    {
      "cell_type": "code",
      "metadata": {
        "id": "kWQpAYaDql6q",
        "colab_type": "code",
        "colab": {
          "base_uri": "https://localhost:8080/",
          "height": 51
        },
        "outputId": "271931aa-3e31-4de2-cc3a-f3fc265d7200"
      },
      "source": [
        "#Check Even / Odd without using modulus or bitwise operator:\n",
        "\n",
        "number=int(input(\"enter the number of your choice\"))\n",
        "\n",
        "a=int(number/2)*2\n",
        "if(a==number):\n",
        "   print(number,\"is Even\")\n",
        "else:\n",
        "  print(number,\"is not Even(Odd)\")"
      ],
      "execution_count": 33,
      "outputs": [
        {
          "output_type": "stream",
          "text": [
            "enter the number of your choice36\n",
            "36 is Even\n"
          ],
          "name": "stdout"
        }
      ]
    }
  ]
}