{
  "nbformat": 4,
  "nbformat_minor": 0,
  "metadata": {
    "colab": {
      "name": "Competitvie_Tricks.ipynb",
      "provenance": [],
      "authorship_tag": "ABX9TyNR0svv4gEHdG1fIyDpnwDh",
      "include_colab_link": true
    },
    "kernelspec": {
      "name": "python3",
      "display_name": "Python 3"
    }
  },
  "cells": [
    {
      "cell_type": "markdown",
      "metadata": {
        "id": "view-in-github",
        "colab_type": "text"
      },
      "source": [
        "<a href=\"https://colab.research.google.com/github/vvicky30/python/blob/master/Competitvie_Tricks.ipynb\" target=\"_parent\"><img src=\"https://colab.research.google.com/assets/colab-badge.svg\" alt=\"Open In Colab\"/></a>"
      ]
    },
    {
      "cell_type": "code",
      "metadata": {
        "colab": {
          "base_uri": "https://localhost:8080/"
        },
        "id": "njwJXANYElrz",
        "outputId": "82785f8e-b229-4362-a203-bb9724d606cb"
      },
      "source": [
        "def Sum1(n):  #with time complexity of o(1)\n",
        "  return n*(n+1)//2\n",
        "\n",
        "\n",
        "def Sum2(n): #with time complexity of o(n)\n",
        "  sum=0\n",
        "  for i in range(1,n+1):\n",
        "    sum=sum+i\n",
        "  return sum\n",
        "\n",
        "#taking no. so that upto that number(n) we sum up all integers within it\n",
        "t=int(input())#test cases numbers\n",
        "while t: # while its +ve not zero\n",
        "  n=int(input())\n",
        "  print(\"sum of number upto t from sum1 {}:\".format(Sum1(n))) #make output earleir than below once\n",
        "  print(\"sum of number up to t from sum2 {}:\".format(Sum2(n)))#make overdue ouput   due to 0(n)time complexity\n",
        "  t=t-1\n",
        "\n",
        "\n"
      ],
      "execution_count": 3,
      "outputs": [
        {
          "output_type": "stream",
          "text": [
            "3\n",
            "10\n",
            "sum of number upto t from sum1 55:\n",
            "sum of number up to t from sum2 55:\n",
            "50\n",
            "sum of number upto t from sum1 1275:\n",
            "sum of number up to t from sum2 1275:\n",
            "99999999\n",
            "sum of number upto t from sum1 4999999950000000:\n",
            "sum of number up to t from sum2 4999999950000000:\n"
          ],
          "name": "stdout"
        }
      ]
    },
    {
      "cell_type": "code",
      "metadata": {
        "id": "iT1W6BoipsDm"
      },
      "source": [
        ""
      ],
      "execution_count": null,
      "outputs": []
    }
  ]
}