{
  "nbformat": 4,
  "nbformat_minor": 0,
  "metadata": {
    "colab": {
      "name": "square_transaction2.ipynb",
      "provenance": [],
      "authorship_tag": "ABX9TyOIQyGiptyUGdzIgnZSuULd",
      "include_colab_link": true
    },
    "kernelspec": {
      "name": "python3",
      "display_name": "Python 3"
    }
  },
  "cells": [
    {
      "cell_type": "markdown",
      "metadata": {
        "id": "view-in-github",
        "colab_type": "text"
      },
      "source": [
        "<a href=\"https://colab.research.google.com/github/vvicky30/python/blob/master/square_transaction2.ipynb\" target=\"_parent\"><img src=\"https://colab.research.google.com/assets/colab-badge.svg\" alt=\"Open In Colab\"/></a>"
      ]
    },
    {
      "cell_type": "markdown",
      "metadata": {
        "id": "RC1clanZ4bcK",
        "colab_type": "text"
      },
      "source": [
        "##problem\n",
        "Square Inc. processes thousands of transactions daily amounting to millions of dollars. They also have a daily target that they must achieve. Given a list of transactions done by Square Inc. and a daily target your task is to determine at which transaction does Square achieves the same.\n",
        "\n",
        "###Input:\n",
        "First line contains T, number of transactions done by Square in a day.\n",
        "The following line contains T integers, the worth of each transactions.\n",
        "Next line contains Q, the no of queries.\n",
        "Next Q lines contain an integer each representing the daily target.\n",
        "\n",
        "###Output:\n",
        "For each query, print the transaction number where the daily limit is achieved or -1 if the target can't be achieved.\n",
        "\n",
        "###sample input:-\n",
        "5\n",
        "\n",
        "1 2 1 3 4\n",
        "\n",
        "3\n",
        "\n",
        "4\n",
        "\n",
        "2\n",
        "\n",
        "10\n",
        "\n",
        "###sample output:-\n",
        "3\n",
        "\n",
        "2\n",
        "\n",
        "5\n"
      ]
    },
    {
      "cell_type": "code",
      "metadata": {
        "id": "Db2pF4B_3EOE",
        "colab_type": "code",
        "colab": {
          "base_uri": "https://localhost:8080/",
          "height": 168
        },
        "outputId": "32351670-5f16-4312-b51d-55e91d0e5ef8"
      },
      "source": [
        "n=int(input())\n",
        "a=list(map(int,input().split()))\n",
        "add = [0 for i in range(n+1)]\n",
        "for i in range(n):\n",
        "    add[i+1]=add[i]+a[i]\n",
        "q=int(input())\n",
        "prev=0\n",
        "prev_ind=1\n",
        "for _ in range(q):\n",
        "    t=int(input())\n",
        "    if t>add[n]:\n",
        "        print(\"-1\")\n",
        "        continue\n",
        "    if t>prev:\n",
        "        while add[prev_ind]<t and prev_ind<=n : prev_ind+=1\n",
        "        print(prev_ind)\n",
        "        prev=t\n",
        "    elif t<prev:\n",
        "        while add[prev_ind]>=t:prev_ind-=1\n",
        "        prev_ind+=1\n",
        "        print(prev_ind)\n",
        "        prev=t\n",
        "    else : print(prev_ind)"
      ],
      "execution_count": 9,
      "outputs": [
        {
          "output_type": "stream",
          "text": [
            "5\n",
            "1 2 1 3 4\n",
            "3\n",
            "4\n",
            "3\n",
            "2\n",
            "2\n",
            "10\n",
            "5\n"
          ],
          "name": "stdout"
        }
      ]
    },
    {
      "cell_type": "code",
      "metadata": {
        "id": "drXukQdn5GEI",
        "colab_type": "code",
        "colab": {
          "base_uri": "https://localhost:8080/",
          "height": 168
        },
        "outputId": "84fc38e1-2914-49c7-d7f5-3ac79387b3a6"
      },
      "source": [
        "n=int(input())\n",
        "value=list(map(int,input().split()))\n",
        "add=[0 for i in range(n+1)]#initilises a add-named list by zeros for range n+1\n",
        "for i in range(n):\n",
        "  add[i+1]=value[i]+add[i]#this is for making sum of transaction values in order of their appreances\n",
        "query_no=int(input())\n",
        "ini=0\n",
        "preInd=1\n",
        "for i in range(query_no):\n",
        "  d_t=int(input())\n",
        "  \n",
        "  if(d_t>add[n]):\n",
        "    print(\"-1\")#sincecdaily target not completed within given trnsaction value\n",
        "    continue #continue to further check whether it  satisfy or not \n",
        "  \n",
        "  if(d_t>ini):\n",
        "    while add[preInd]<d_t and preInd<=n:\n",
        "      preInd+=1\n",
        "    print(preInd)\n",
        "    ini=d_t #here we directly used the previous given daily_target value for comparing further daily_target value  so that we shoud'nt start the calculation by starting(zeroth)-index\n",
        "  \n",
        "  elif(d_t<ini):#for negative targets \n",
        "    while add[preInd]>=d_t:\n",
        "      preInd-=1\n",
        "    preInd+=1\n",
        "    print(preInd)\n",
        "    ini=d_t  \n",
        "  else:\n",
        "    print(preInd)\n",
        "\n",
        "\n",
        "\n",
        "\n"
      ],
      "execution_count": 16,
      "outputs": [
        {
          "output_type": "stream",
          "text": [
            "5\n",
            "1 2 1 3 4\n",
            "3\n",
            "4\n",
            "3\n",
            "2\n",
            "2\n",
            "10\n",
            "5\n"
          ],
          "name": "stdout"
        }
      ]
    }
  ]
}