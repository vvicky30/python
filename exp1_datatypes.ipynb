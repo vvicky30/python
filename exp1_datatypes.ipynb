{
  "nbformat": 4,
  "nbformat_minor": 0,
  "metadata": {
    "colab": {
      "name": "exp1_datatypes.ipynb",
      "provenance": [],
      "collapsed_sections": [],
      "include_colab_link": true
    },
    "kernelspec": {
      "name": "python3",
      "display_name": "Python 3"
    }
  },
  "cells": [
    {
      "cell_type": "markdown",
      "metadata": {
        "id": "view-in-github",
        "colab_type": "text"
      },
      "source": [
        "<a href=\"https://colab.research.google.com/github/vvicky30/python/blob/master/exp1_datatypes.ipynb\" target=\"_parent\"><img src=\"https://colab.research.google.com/assets/colab-badge.svg\" alt=\"Open In Colab\"/></a>"
      ]
    },
    {
      "cell_type": "code",
      "metadata": {
        "id": "DOXfVtkZcCB0",
        "colab_type": "code",
        "colab": {
          "base_uri": "https://localhost:8080/",
          "height": 68
        },
        "outputId": "cffb536a-d4f3-4942-de82-96e48c7216fc"
      },
      "source": [
        "#actually each value in python is realted to some datatypes  and this datatpes are classes in python as python is object oriented \n",
        "#and the variable in python is the instance(object) of this datatypes(classes)\n",
        "\"\"\"\n",
        "Python Numbers:-\n",
        "Integers, floating point numbers and complex numbers falls under Python numbers category. They are defined as int, float and complex class in Python.\n",
        "\n",
        "We can use the type() function to know which class a variable or a value belongs to and the isinstance() function to check if an object belongs to a particular class.\n",
        "\"\"\"\n",
        "\n",
        "a=5\n",
        "print(a,\"type of a is: \", type(a))\n",
        "\n",
        "a=10.0\n",
        "print(a,\"type of a is :\",type(a))\n",
        "\n",
        "\n",
        "a=1+2j\n",
        "print(a,\"type of a is coplex?:\",isinstance(a,complex)) #Complex numbers are written in the form, x + yj, where x is the real part and y is the imaginary part."
      ],
      "execution_count": 27,
      "outputs": [
        {
          "output_type": "stream",
          "text": [
            "5 type of a is:  <class 'int'>\n",
            "10.0 type of a is : <class 'float'>\n",
            "(1+2j) type of a is coplex?: True\n"
          ],
          "name": "stdout"
        }
      ]
    },
    {
      "cell_type": "code",
      "metadata": {
        "id": "XyebSmg_exeN",
        "colab_type": "code",
        "colab": {
          "base_uri": "https://localhost:8080/",
          "height": 34
        },
        "outputId": "0ee06a69-33e5-4ede-cc95-5e2713a4fa2e"
      },
      "source": [
        " b = 0.1234567890123456789\n",
        "b #A floating point number is accurate up to 15 decimal places. Integer and floating points are separated by decimal points. 1 is integer, 1.0 is floating point number.\n"
      ],
      "execution_count": 28,
      "outputs": [
        {
          "output_type": "execute_result",
          "data": {
            "text/plain": [
              "0.12345678901234568"
            ]
          },
          "metadata": {
            "tags": []
          },
          "execution_count": 28
        }
      ]
    },
    {
      "cell_type": "code",
      "metadata": {
        "id": "Y7kePF7djNkp",
        "colab_type": "code",
        "colab": {
          "base_uri": "https://localhost:8080/",
          "height": 748
        },
        "outputId": "0adf4efa-daf9-4e17-ee0c-a91e92c939e7"
      },
      "source": [
        "\"\"\"\n",
        "Python List\n",
        "List is an ordered sequence of items. It is one of the most used datatype in Python and is very flexible. All the items in a list do not need to be of the same type.\n",
        "\n",
        "\n",
        "Declaring a list is pretty straight forward. Items separated by commas are enclosed within brackets [ ].\n",
        "\"\"\"\n",
        "insects=['ant', 'cockroach','bee']\n",
        "insects\n",
        "insects.append('harvinderr') #append(x)\t\n",
        "                             #Adds an item (x) to the end of the list. This is equivalent to a[len(a):] = [x].\n",
        "insects\n",
        "print(insects)\n",
        "insects.extend(['worm','flea']) #extend(iterable)\t\n",
        "                                 #Extends the list by appending all the items from the iterable. This allows you to join two lists together. This method is equivalent to a[len(a):] = iterable.\n",
        "print(insects)\n",
        "#own method of extending any list:-\n",
        "insects[len(insects):]=['blackmamaba','honeybee']\n",
        "print(insects)\n",
        "\n",
        "#insert(i, x)\t\n",
        "#Inserts an item at a given position. The first argument is the index of the element before which to insert. For example, a.insert(0, x) inserts at the front of the list.\n",
        "insects.insert(2,'bee_inserted')\n",
        "print(insects)\n",
        "\n",
        "#remove(x)\t\n",
        "#Removes the first item from the list that has a value of x. Returns an error if there is no such item.\n",
        "insects.remove('harvinderr')\n",
        "print(insects)\n",
        "\n",
        "#pop([i])\t\n",
        "#Removes the item at the given position in the list, and returns it. If no index is specified, pop() removes and returns the last item in the list.\n",
        "insects.pop(1) #removing 'cackroach' here\n",
        "print(insects)\n",
        "insects.pop()#bydefault it removes last element of the list\n",
        "print(insects)\n",
        "\n",
        "#clear()\t\n",
        "#Removes all items from the list. Equivalent to del a[:].\n",
        "insects.clear()\n",
        "print(insects)\n",
        "#clear or delete it manually as following:-\n",
        "insect1=['honeybee','villow','flea','bee','ant']\n",
        "print(insect1)\n",
        "del(insect1[0:5])\n",
        "print(insect1)#after deletion manually\n",
        "\n",
        "#index(x[, start[, end]])\t\n",
        "#Returns the position of the first list item that has a value of x. Raises a ValueError if there is no such item.\n",
        "a = [\"bee\", \"ant\", \"moth\", \"ant\"]\n",
        "print(a.index('ant'))\n",
        "print(a.index('ant',2))\n",
        "\n",
        "#count(x)\t\n",
        "#Returns the number of times x appears in the list.\n",
        "a.extend(['ant','ant','moth'])\n",
        "print(a)\n",
        "print(a.count('ant'))\n",
        "print(a.count('moth'))\n",
        "\n",
        "\"\"\"\n",
        "sort(key=None, reverse=False)\t\n",
        "Sorts the items of the list in place. The arguments can be used to customize the operation.\n",
        "\n",
        "key\n",
        "Specifies a function of one argument that is used to extract a comparison key from each list element. The default value is None (compares the elements directly).\n",
        "reverse\n",
        "Boolean value. If set to True, then the list elements are sorted as if each comparison were reversed.\n",
        "\"\"\"\n",
        "b = [3,6,5,2,4,1]\n",
        "b.sort()\n",
        "print(b)\n",
        "b = [3,6,5,2,4,1]\n",
        "b.sort(reverse=True)\n",
        "print(b)\n",
        "a.sort()#on 'a'\n",
        "print(a)\n",
        "#if\n",
        "a = [\"bee\", \"wasp\", \"butterfly\"]\n",
        "a.sort(key=len)\n",
        "print(a)\n",
        "#using reverse=T\n",
        "a = [\"bee\", \"wasp\", \"butterfly\"]\n",
        "a.sort(key=len, reverse=True)\n",
        "print(a)\n",
        "\n",
        "#reverse()\t\n",
        "#Reverses the elements of the list in place.\n",
        "a = [\"bee\", \"wasp\", \"moth\", \"ant\"]\n",
        "a.reverse()\n",
        "print(a)\n",
        "\n",
        "\"\"\"\n",
        "copy()\t\n",
        "Returns a shallow copy of the list. Equivalent to a[:].\n",
        "\n",
        "Use the copy() method when you need to update the copy without affecting the original list. If you don't use this method \n",
        "(eg, if you do something like list2 = list1), then any updates you do to list2 will also affect list1.\n",
        "\n",
        "The example at the side demonstrates this.\n",
        "\"\"\"\n",
        "\n",
        "# WITHOUT copy()\n",
        "a = [\"bee\", \"wasp\", \"moth\"]\n",
        "b = a\n",
        "b.append(\"ant\")\n",
        "print(a)\n",
        "print(b)\n",
        "\n",
        "#with copy()\n",
        "a = [\"bee\", \"wasp\", \"moth\"]\n",
        "b = a.copy()\n",
        "b.append(\"ant\")\n",
        "print(a)\n",
        "print(b)\n",
        "\"\"\"\n",
        "len(s)\t\n",
        "Returns the number of items in the list.\n",
        "\n",
        "The len() function can be used on any sequence (such as a string, bytes, tuple, list, or range) or collection (such as a dictionary, set, or frozen set).\n",
        "\"\"\"\n",
        "a = [\"bee\", \"moth\", \"ant\"]\n",
        "print(len(a))\n",
        "\n",
        "\"\"\"\n",
        "list([iterable])\t\n",
        "The list() constructor returns a mutable sequence list of elements. The iterable argument is optional. You can provide any sequence or collection (such as a string, list, tuple, set, dictionary, etc). If no argument is supplied, an empty list is returned.\n",
        "\n",
        "Strictly speaking, list([iterable]) is actually a mutable sequence type.\n",
        "\"\"\"\n",
        "\n",
        "print(list())\n",
        "print(list([]))\n",
        "print(list([\"bee\", \"moth\", \"ant\"]))\n",
        "print(list([[\"bee\", \"moth\"], [\"ant\"]]))\n",
        "a= \"vedant\"\n",
        "print(list(a))\n",
        "\n",
        "a = {\"for\", \"the\", \"set\"}\n",
        "print(list(a))\n",
        "a=(\"for\",\"the\",\"tuple\")\n",
        "print(list(a))\n",
        "\n",
        "#max\n",
        "a = [\"bee\", \"moth\", \"ant\"]\n",
        "print(max(a))\n",
        "\n",
        "a = [\"bee\", \"moth\", \"wasp\"]\n",
        "print(max(a))\n",
        "\n",
        "a = [1, 2, 3, 4, 5]\n",
        "b = [1, 2, 3, 4]\n",
        "print(max(a, b))\n",
        "\n",
        "#min\n",
        "a = [\"bee\", \"moth\", \"wasp\"]\n",
        "print(min(a))\n",
        "\n",
        "a = [\"bee\", \"moth\", \"ant\"]\n",
        "print(min(a))\n",
        "\n",
        "a = [1, 2, 3, 4, 5]\n",
        "b = [1, 2, 3, 4]\n",
        "print(min(a, b))\n",
        "\n",
        "\"\"\"\n",
        "range(stop)\n",
        "\n",
        "or\n",
        "\n",
        "range(start, stop[, step])\n",
        "\n",
        "Represents an immutable sequence of numbers and is commonly used for looping a specific number of times in for loops.\n",
        "\n",
        "It can be used along with list() to return a list of items between a given range.\n",
        "\n",
        "Strictly speaking, range() is actually a mutable sequence type.\n",
        "\n",
        "\"\"\"\n",
        "print(list(range(10)))\n",
        "print(list(range(1,11)))\n",
        "print(list(range(51,56)))\n",
        "print(list(range(1,11,2)))\n",
        "\n",
        "\n",
        "\n"
      ],
      "execution_count": 96,
      "outputs": [
        {
          "output_type": "stream",
          "text": [
            "['ant', 'cockroach', 'bee', 'harvinderr']\n",
            "['ant', 'cockroach', 'bee', 'harvinderr', 'worm', 'flea']\n",
            "['ant', 'cockroach', 'bee', 'harvinderr', 'worm', 'flea', 'blackmamaba', 'honeybee']\n",
            "['ant', 'cockroach', 'bee_inserted', 'bee', 'harvinderr', 'worm', 'flea', 'blackmamaba', 'honeybee']\n",
            "['ant', 'cockroach', 'bee_inserted', 'bee', 'worm', 'flea', 'blackmamaba', 'honeybee']\n",
            "['ant', 'bee_inserted', 'bee', 'worm', 'flea', 'blackmamaba', 'honeybee']\n",
            "['ant', 'bee_inserted', 'bee', 'worm', 'flea', 'blackmamaba']\n",
            "[]\n",
            "['honeybee', 'villow', 'flea', 'bee', 'ant']\n",
            "[]\n",
            "1\n",
            "3\n",
            "['bee', 'ant', 'moth', 'ant', 'ant', 'ant', 'moth']\n",
            "4\n",
            "2\n",
            "[1, 2, 3, 4, 5, 6]\n",
            "[6, 5, 4, 3, 2, 1]\n",
            "['ant', 'ant', 'ant', 'ant', 'bee', 'moth', 'moth']\n",
            "['bee', 'wasp', 'butterfly']\n",
            "['butterfly', 'wasp', 'bee']\n",
            "['ant', 'moth', 'wasp', 'bee']\n",
            "['bee', 'wasp', 'moth', 'ant']\n",
            "['bee', 'wasp', 'moth', 'ant']\n",
            "['bee', 'wasp', 'moth']\n",
            "['bee', 'wasp', 'moth', 'ant']\n",
            "3\n",
            "[]\n",
            "[]\n",
            "['bee', 'moth', 'ant']\n",
            "[['bee', 'moth'], ['ant']]\n",
            "['v', 'e', 'd', 'a', 'n', 't']\n",
            "['set', 'for', 'the']\n",
            "['for', 'the', 'tuple']\n",
            "moth\n",
            "wasp\n",
            "[1, 2, 3, 4, 5]\n",
            "bee\n",
            "ant\n",
            "[1, 2, 3, 4]\n",
            "[0, 1, 2, 3, 4, 5, 6, 7, 8, 9]\n",
            "[1, 2, 3, 4, 5, 6, 7, 8, 9, 10]\n",
            "[51, 52, 53, 54, 55]\n",
            "[1, 3, 5, 7, 9]\n"
          ],
          "name": "stdout"
        }
      ]
    },
    {
      "cell_type": "code",
      "metadata": {
        "id": "2SiHUhbJmWUp",
        "colab_type": "code",
        "colab": {
          "base_uri": "https://localhost:8080/",
          "height": 51
        },
        "outputId": "8a53bca5-175b-4ba6-80f6-064f20ee914b"
      },
      "source": [
        "\"\"\"\n",
        "Python Tuple\n",
        "Tuple is an ordered sequence of items same as list.The only difference is that tuples are immutable. Tuples once created cannot be modified.\n",
        "\n",
        "Tuples are used to write-protect data and are usually faster than list as it cannot change dynamically.\n",
        "\n",
        "It is defined within parentheses () where items are separated by commas.\n",
        "\"\"\"\n",
        "t = (5,'program', 1+3j)\n",
        "\n",
        "# t[1] = 'program'\n",
        "print(\"t[1] = \", t[1])\n",
        "\n",
        "# t[0:3] = (5, 'program', (1+3j))\n",
        "print(\"t[0:3] = \", t[0:3])\n"
      ],
      "execution_count": 99,
      "outputs": [
        {
          "output_type": "stream",
          "text": [
            "t[1] =  program\n",
            "t[0:3] =  (5, 'program', (1+3j))\n"
          ],
          "name": "stdout"
        }
      ]
    },
    {
      "cell_type": "code",
      "metadata": {
        "id": "rwmk0A768kMj",
        "colab_type": "code",
        "colab": {
          "base_uri": "https://localhost:8080/",
          "height": 163
        },
        "outputId": "c235dd14-79b8-4bae-a22e-a814728b2fcf"
      },
      "source": [
        "# Generates error\n",
        "# Tuples are immutable\n",
        "t[0] = 10"
      ],
      "execution_count": 100,
      "outputs": [
        {
          "output_type": "error",
          "ename": "TypeError",
          "evalue": "ignored",
          "traceback": [
            "\u001b[0;31m---------------------------------------------------------------------------\u001b[0m",
            "\u001b[0;31mTypeError\u001b[0m                                 Traceback (most recent call last)",
            "\u001b[0;32m<ipython-input-100-88963aa635fa>\u001b[0m in \u001b[0;36m<module>\u001b[0;34m()\u001b[0m\n\u001b[0;32m----> 1\u001b[0;31m \u001b[0mt\u001b[0m\u001b[0;34m[\u001b[0m\u001b[0;36m0\u001b[0m\u001b[0;34m]\u001b[0m \u001b[0;34m=\u001b[0m \u001b[0;36m10\u001b[0m\u001b[0;34m\u001b[0m\u001b[0;34m\u001b[0m\u001b[0m\n\u001b[0m",
            "\u001b[0;31mTypeError\u001b[0m: 'tuple' object does not support item assignment"
          ]
        }
      ]
    },
    {
      "cell_type": "code",
      "metadata": {
        "id": "z_bmSocg8mcb",
        "colab_type": "code",
        "colab": {
          "base_uri": "https://localhost:8080/",
          "height": 51
        },
        "outputId": "684dec96-3e51-40b3-c09f-a0b267b7dd6b"
      },
      "source": [
        "#String is sequence of Unicode characters. We can use single quotes or double quotes to represent strings. Multi-line strings can be denoted using triple quotes, ''' or \"\"\".\n",
        "#Like list and tuple, slicing operator [ ] can be used with string. Strings are immutable.\n",
        "#strings:-\n",
        "s = 'Hello world!'\n",
        "\n",
        "# s[4] = 'o'\n",
        "print(\"s[4] = \", s[4])\n",
        "\n",
        "# s[6:11] = 'world'\n",
        "print(\"s[6:11] = \", s[6:11])"
      ],
      "execution_count": 101,
      "outputs": [
        {
          "output_type": "stream",
          "text": [
            "s[4] =  o\n",
            "s[6:11] =  world\n"
          ],
          "name": "stdout"
        }
      ]
    },
    {
      "cell_type": "code",
      "metadata": {
        "id": "-L0xxWdq9dBk",
        "colab_type": "code",
        "colab": {
          "base_uri": "https://localhost:8080/",
          "height": 163
        },
        "outputId": "bed30509-6d72-4f54-e4e3-f68b2e3d3340"
      },
      "source": [
        "# Generates error\n",
        "# Strings are immutable in Python\n",
        "s[5] ='d'"
      ],
      "execution_count": 102,
      "outputs": [
        {
          "output_type": "error",
          "ename": "TypeError",
          "evalue": "ignored",
          "traceback": [
            "\u001b[0;31m---------------------------------------------------------------------------\u001b[0m",
            "\u001b[0;31mTypeError\u001b[0m                                 Traceback (most recent call last)",
            "\u001b[0;32m<ipython-input-102-22a8bbeeb322>\u001b[0m in \u001b[0;36m<module>\u001b[0;34m()\u001b[0m\n\u001b[0;32m----> 1\u001b[0;31m \u001b[0ms\u001b[0m\u001b[0;34m[\u001b[0m\u001b[0;36m5\u001b[0m\u001b[0;34m]\u001b[0m \u001b[0;34m=\u001b[0m\u001b[0;34m'd'\u001b[0m\u001b[0;34m\u001b[0m\u001b[0;34m\u001b[0m\u001b[0m\n\u001b[0m",
            "\u001b[0;31mTypeError\u001b[0m: 'str' object does not support item assignment"
          ]
        }
      ]
    },
    {
      "cell_type": "code",
      "metadata": {
        "id": "0-k19UmT9sHg",
        "colab_type": "code",
        "colab": {
          "base_uri": "https://localhost:8080/",
          "height": 68
        },
        "outputId": "16895cda-aa94-4a92-b769-ee439398b484"
      },
      "source": [
        "#Python Set\n",
        "#Set is an unordered collection of unique items. Set is defined by values separated by comma inside braces { }. Items in a set are not ordered.\n",
        "a = {5,2,3,1,4}\n",
        "\n",
        "# printing set variable\n",
        "print(\"a = \", a)\n",
        "\n",
        "# data type of variable a\n",
        "print(type(a))\n",
        "\n",
        "a = {1,2,2,3,3,3} #We can perform set operations like union, intersection on two sets. Set have unique values. They eliminate duplicates.\n",
        "a"
      ],
      "execution_count": 104,
      "outputs": [
        {
          "output_type": "stream",
          "text": [
            "a =  {1, 2, 3, 4, 5}\n",
            "<class 'set'>\n"
          ],
          "name": "stdout"
        },
        {
          "output_type": "execute_result",
          "data": {
            "text/plain": [
              "{1, 2, 3}"
            ]
          },
          "metadata": {
            "tags": []
          },
          "execution_count": 104
        }
      ]
    },
    {
      "cell_type": "code",
      "metadata": {
        "id": "REWqb-dE-RIu",
        "colab_type": "code",
        "colab": {
          "base_uri": "https://localhost:8080/",
          "height": 180
        },
        "outputId": "e9cce37d-5d63-4dd3-94c0-4b2a40e9b002"
      },
      "source": [
        "#Since, set are unordered collection, indexing has no meaning. Hence the slicing operator [] does not work.\n",
        "a = {1,2,3}\n",
        "a[1]"
      ],
      "execution_count": 106,
      "outputs": [
        {
          "output_type": "error",
          "ename": "TypeError",
          "evalue": "ignored",
          "traceback": [
            "\u001b[0;31m---------------------------------------------------------------------------\u001b[0m",
            "\u001b[0;31mTypeError\u001b[0m                                 Traceback (most recent call last)",
            "\u001b[0;32m<ipython-input-106-dcc17a4df178>\u001b[0m in \u001b[0;36m<module>\u001b[0;34m()\u001b[0m\n\u001b[1;32m      1\u001b[0m \u001b[0ma\u001b[0m \u001b[0;34m=\u001b[0m \u001b[0;34m{\u001b[0m\u001b[0;36m1\u001b[0m\u001b[0;34m,\u001b[0m\u001b[0;36m2\u001b[0m\u001b[0;34m,\u001b[0m\u001b[0;36m3\u001b[0m\u001b[0;34m}\u001b[0m\u001b[0;34m\u001b[0m\u001b[0;34m\u001b[0m\u001b[0m\n\u001b[0;32m----> 2\u001b[0;31m \u001b[0ma\u001b[0m\u001b[0;34m[\u001b[0m\u001b[0;36m1\u001b[0m\u001b[0;34m]\u001b[0m\u001b[0;34m\u001b[0m\u001b[0;34m\u001b[0m\u001b[0m\n\u001b[0m",
            "\u001b[0;31mTypeError\u001b[0m: 'set' object does not support indexing"
          ]
        }
      ]
    },
    {
      "cell_type": "code",
      "metadata": {
        "id": "WJMlBpQn-mEm",
        "colab_type": "code",
        "colab": {
          "base_uri": "https://localhost:8080/",
          "height": 68
        },
        "outputId": "f7ec7f5a-5e97-462c-91e4-b807863fc41c"
      },
      "source": [
        "\"\"\"\n",
        "Python Dictionary\n",
        "Dictionary is an unordered collection of key-value pairs.\n",
        "\n",
        "It is generally used when we have a huge amount of data. Dictionaries are optimized for retrieving data. We must know the key to retrieve the value.\n",
        "\n",
        "In Python, dictionaries are defined within braces {} with each item being a pair in the form key:value. Key and value can be of any type.\n",
        "\"\"\"\n",
        "d = {1:'value','key':2}\n",
        "type(d)\n",
        "\n",
        "d = {1:'value','key':2}\n",
        "print(type(d))\n",
        "\n",
        "print(\"d[1] = \", d[1]);\n",
        "\n",
        "print(\"d['key'] = \", d['key']);\n",
        "\n"
      ],
      "execution_count": 109,
      "outputs": [
        {
          "output_type": "stream",
          "text": [
            "<class 'dict'>\n",
            "d[1] =  value\n",
            "d['key'] =  2\n"
          ],
          "name": "stdout"
        }
      ]
    },
    {
      "cell_type": "code",
      "metadata": {
        "id": "HPTvLpeZ_ALr",
        "colab_type": "code",
        "colab": {
          "base_uri": "https://localhost:8080/",
          "height": 163
        },
        "outputId": "af44992d-55b6-4d1c-a772-d50dab226a9d"
      },
      "source": [
        "# Generates error\n",
        "print(\"d[2] = \", d[2]);\n"
      ],
      "execution_count": 110,
      "outputs": [
        {
          "output_type": "error",
          "ename": "KeyError",
          "evalue": "ignored",
          "traceback": [
            "\u001b[0;31m---------------------------------------------------------------------------\u001b[0m",
            "\u001b[0;31mKeyError\u001b[0m                                  Traceback (most recent call last)",
            "\u001b[0;32m<ipython-input-110-7704811311c6>\u001b[0m in \u001b[0;36m<module>\u001b[0;34m()\u001b[0m\n\u001b[0;32m----> 1\u001b[0;31m \u001b[0mprint\u001b[0m\u001b[0;34m(\u001b[0m\u001b[0;34m\"d[2] = \"\u001b[0m\u001b[0;34m,\u001b[0m \u001b[0md\u001b[0m\u001b[0;34m[\u001b[0m\u001b[0;36m2\u001b[0m\u001b[0;34m]\u001b[0m\u001b[0;34m)\u001b[0m\u001b[0;34m;\u001b[0m\u001b[0;34m\u001b[0m\u001b[0;34m\u001b[0m\u001b[0m\n\u001b[0m",
            "\u001b[0;31mKeyError\u001b[0m: 2"
          ]
        }
      ]
    },
    {
      "cell_type": "code",
      "metadata": {
        "id": "5HLi9-Tv_Hx2",
        "colab_type": "code",
        "colab": {
          "base_uri": "https://localhost:8080/",
          "height": 68
        },
        "outputId": "e09d63be-48a8-43d3-cc47-a7ac8dd1742c"
      },
      "source": [
        "#We can even convert one sequence to another.\n",
        "\n",
        "print(set([1,2,3]))\n",
        "\n",
        "print(tuple({5,6,7}))\n",
        "\n",
        "list('hello')\n"
      ],
      "execution_count": 113,
      "outputs": [
        {
          "output_type": "stream",
          "text": [
            "{1, 2, 3}\n",
            "(5, 6, 7)\n"
          ],
          "name": "stdout"
        },
        {
          "output_type": "execute_result",
          "data": {
            "text/plain": [
              "['h', 'e', 'l', 'l', 'o']"
            ]
          },
          "metadata": {
            "tags": []
          },
          "execution_count": 113
        }
      ]
    }
  ]
}