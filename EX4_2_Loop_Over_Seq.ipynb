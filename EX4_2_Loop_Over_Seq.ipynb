{
  "nbformat": 4,
  "nbformat_minor": 0,
  "metadata": {
    "colab": {
      "name": "EX4.2_Loop_Over_Seq.ipynb",
      "provenance": [],
      "authorship_tag": "ABX9TyP6Dom3IHk3SX4PWTNkkHP1",
      "include_colab_link": true
    },
    "kernelspec": {
      "name": "python3",
      "display_name": "Python 3"
    }
  },
  "cells": [
    {
      "cell_type": "markdown",
      "metadata": {
        "id": "view-in-github",
        "colab_type": "text"
      },
      "source": [
        "<a href=\"https://colab.research.google.com/github/vvicky30/python/blob/master/EX4_2_Loop_Over_Seq.ipynb\" target=\"_parent\"><img src=\"https://colab.research.google.com/assets/colab-badge.svg\" alt=\"Open In Colab\"/></a>"
      ]
    },
    {
      "cell_type": "code",
      "metadata": {
        "id": "dnaTtUy6qn6s",
        "colab_type": "code",
        "colab": {
          "base_uri": "https://localhost:8080/",
          "height": 748
        },
        "outputId": "3d3776c3-a47b-47ea-a5c3-1f21235b792e"
      },
      "source": [
        "\"\"\"\n",
        "for in Loop: For loops are used for sequential traversal. For example: traversing a list or string or array etc.\n",
        "In Python, there is no C style for loop, i.e., for (i=0; i<n; i++). There is “for in” loop which is similar to for each loop in other languages. Let us learn how to use for in loop for sequential traversals.\n",
        "\n",
        "Syntax:\n",
        "for iterator_var in sequence:\n",
        "    statements(s)\n",
        "\"\"\"\n",
        "# Python program to illustrate \n",
        "# Iterating over a list \n",
        "print(\"List Iteration\") \n",
        "l = [\"simran\", \"jeet\", \"singh\"] \n",
        "name_no=[1,2,3]\n",
        "for i in name_no: \n",
        "    print(i) \n",
        "    for j in l :\n",
        "      print(j)\n",
        "      print(\"  \")\n",
        "       \n",
        "# Iterating over a tuple (immutable) \n",
        "print(\"\\nTuple Iteration\") \n",
        "t = (\"shubhum\", \"kumar\", \"sinha\") \n",
        "for i in t: \n",
        "    print(i) \n",
        "       \n",
        "# Iterating over a String \n",
        "print(\"\\nString Iteration\")     \n",
        "s = \"vedant\"\n",
        "for i in s : \n",
        "    print(i) \n",
        "       \n",
        "# Iterating over dictionary \n",
        "print(\"\\nDictionary Iteration\")    \n",
        "d = dict()  \n",
        "d['first'] = 123\n",
        "d['middle'] = 345\n",
        "d['last']= 567\n",
        "for i in d : \n",
        "    print(\"%s  %d\" %(i, d[i])) \n",
        "#or\n",
        "d2=dict(first= 'vedant' , middle= 'kumar', last='bhatt')\n",
        "for i in d2 : \n",
        "    print(\"%s  %s\" %(i, d2[i])) \n",
        "\n"
      ],
      "execution_count": 21,
      "outputs": [
        {
          "output_type": "stream",
          "text": [
            "List Iteration\n",
            "1\n",
            "simran\n",
            "  \n",
            "jeet\n",
            "  \n",
            "singh\n",
            "  \n",
            "2\n",
            "simran\n",
            "  \n",
            "jeet\n",
            "  \n",
            "singh\n",
            "  \n",
            "3\n",
            "simran\n",
            "  \n",
            "jeet\n",
            "  \n",
            "singh\n",
            "  \n",
            "\n",
            "Tuple Iteration\n",
            "shubhum\n",
            "kumar\n",
            "sinha\n",
            "\n",
            "String Iteration\n",
            "v\n",
            "e\n",
            "d\n",
            "a\n",
            "n\n",
            "t\n",
            "\n",
            "Dictionary Iteration\n",
            "first  123\n",
            "middle  345\n",
            "last  567\n",
            "first  vedant\n",
            "middle  kumar\n",
            "last  bhatt\n"
          ],
          "name": "stdout"
        }
      ]
    },
    {
      "cell_type": "code",
      "metadata": {
        "id": "sfexwrlE2Qp-",
        "colab_type": "code",
        "colab": {
          "base_uri": "https://localhost:8080/",
          "height": 68
        },
        "outputId": "27f42a14-31a6-4336-fff6-02c7baed7d25"
      },
      "source": [
        "# Python program to illustrate \n",
        "# Iterating by index \n",
        "  \n",
        "list = [\"jimmy_hoffa\", \"for\", \"las_vegas\"] \n",
        "for index in range(len(list)): \n",
        "    print (list[index]) "
      ],
      "execution_count": 23,
      "outputs": [
        {
          "output_type": "stream",
          "text": [
            "jimmy_hoffa\n",
            "for\n",
            "las_vegas\n"
          ],
          "name": "stdout"
        }
      ]
    },
    {
      "cell_type": "code",
      "metadata": {
        "id": "nEGH9j8e1s3k",
        "colab_type": "code",
        "colab": {
          "base_uri": "https://localhost:8080/",
          "height": 34
        },
        "outputId": "54b0e295-e154-4411-b966-3bfa86304cd3"
      },
      "source": [
        "#Pass Statement: We use pass statement to write empty loops. Pass is also used for empty control statement, function and classes.\n",
        "# An empty loop \n",
        "for letter in 'vedant': \n",
        "    pass\n",
        "print ('Last Letter :', letter )"
      ],
      "execution_count": 25,
      "outputs": [
        {
          "output_type": "stream",
          "text": [
            "Last Letter : t\n"
          ],
          "name": "stdout"
        }
      ]
    },
    {
      "cell_type": "code",
      "metadata": {
        "id": "ib7Vl6Zq3v9X",
        "colab_type": "code",
        "colab": {
          "base_uri": "https://localhost:8080/",
          "height": 85
        },
        "outputId": "0de4de15-dd75-4011-fe98-f6a1fc737ef7"
      },
      "source": [
        "#Continue Statement: It returns the control to the beginning of the loop.\n",
        "\n",
        "# Prints all letters except 'e' and 'a' \n",
        "for letter in 'vedant':  \n",
        "    if letter == 'e' or letter == 'a': \n",
        "         continue\n",
        "    print ('Current Letter :', letter) \n",
        "    "
      ],
      "execution_count": 27,
      "outputs": [
        {
          "output_type": "stream",
          "text": [
            "Current Letter : v\n",
            "Current Letter : d\n",
            "Current Letter : n\n",
            "Current Letter : t\n"
          ],
          "name": "stdout"
        }
      ]
    },
    {
      "cell_type": "code",
      "metadata": {
        "id": "jyBzobCF4N_7",
        "colab_type": "code",
        "colab": {
          "base_uri": "https://localhost:8080/",
          "height": 34
        },
        "outputId": "6765d4f4-a3ae-4dd9-e97e-42d793e19423"
      },
      "source": [
        "#break statement\n",
        "for letter in 'vedant':  \n",
        "  \n",
        "    # break the loop as soon it sees 'e'  \n",
        "    # or 'a' \n",
        "    if letter == 'e' or letter == 'a': \n",
        "         break\n",
        "  \n",
        "print ('Current Letter :', letter )"
      ],
      "execution_count": 29,
      "outputs": [
        {
          "output_type": "stream",
          "text": [
            "Current Letter : e\n"
          ],
          "name": "stdout"
        }
      ]
    }
  ]
}