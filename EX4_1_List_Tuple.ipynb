{
  "nbformat": 4,
  "nbformat_minor": 0,
  "metadata": {
    "colab": {
      "name": "EX4.1_List_Tuple.ipynb",
      "provenance": [],
      "authorship_tag": "ABX9TyPmryJtoNdtbw1gJpGGj+ZS",
      "include_colab_link": true
    },
    "kernelspec": {
      "name": "python3",
      "display_name": "Python 3"
    }
  },
  "cells": [
    {
      "cell_type": "markdown",
      "metadata": {
        "id": "view-in-github",
        "colab_type": "text"
      },
      "source": [
        "<a href=\"https://colab.research.google.com/github/vvicky30/python/blob/master/EX4_1_List_Tuple.ipynb\" target=\"_parent\"><img src=\"https://colab.research.google.com/assets/colab-badge.svg\" alt=\"Open In Colab\"/></a>"
      ]
    },
    {
      "cell_type": "code",
      "metadata": {
        "id": "MQpzplfPcSs5",
        "colab_type": "code",
        "colab": {
          "base_uri": "https://localhost:8080/",
          "height": 748
        },
        "outputId": "49e75ff0-b36e-4bd7-9e76-dcd8d1a59b96"
      },
      "source": [
        "\"\"\"\n",
        "Python List\n",
        "List is an ordered sequence of items. It is one of the most used datatype in Python and is very flexible. All the items in a list do not need to be of the same type.\n",
        "\n",
        "\n",
        "Declaring a list is pretty straight forward. Items separated by commas are enclosed within brackets [ ].\n",
        "\"\"\"\n",
        "insects=['ant', 'cockroach','bee']\n",
        "insects\n",
        "insects.append('harvinderr') #append(x)\t\n",
        "                             #Adds an item (x) to the end of the list. This is equivalent to a[len(a):] = [x].\n",
        "insects\n",
        "print(insects)\n",
        "insects.extend(['worm','flea']) #extend(iterable)\t\n",
        "                                 #Extends the list by appending all the items from the iterable. This allows you to join two lists together. This method is equivalent to a[len(a):] = iterable.\n",
        "print(insects)\n",
        "#own method of extending any list:-\n",
        "insects[len(insects):]=['blackmamaba','honeybee']\n",
        "print(insects)\n",
        "\n",
        "#insert(i, x)\t\n",
        "#Inserts an item at a given position. The first argument is the index of the element before which to insert. For example, a.insert(0, x) inserts at the front of the list.\n",
        "insects.insert(2,'bee_inserted')\n",
        "print(insects)\n",
        "\n",
        "#remove(x)\t\n",
        "#Removes the first item from the list that has a value of x. Returns an error if there is no such item.\n",
        "insects.remove('harvinderr')\n",
        "print(insects)\n",
        "\n",
        "#pop([i])\t\n",
        "#Removes the item at the given position in the list, and returns it. If no index is specified, pop() removes and returns the last item in the list.\n",
        "insects.pop(1) #removing 'cackroach' here\n",
        "print(insects)\n",
        "insects.pop()#bydefault it removes last element of the list\n",
        "print(insects)\n",
        "\n",
        "#clear()\t\n",
        "#Removes all items from the list. Equivalent to del a[:].\n",
        "insects.clear()\n",
        "print(insects)\n",
        "#clear or delete it manually as following:-\n",
        "insect1=['honeybee','villow','flea','bee','ant']\n",
        "print(insect1)\n",
        "del(insect1[0:5])\n",
        "print(insect1)#after deletion manually\n",
        "\n",
        "#index(x[, start[, end]])\t\n",
        "#Returns the position of the first list item that has a value of x. Raises a ValueError if there is no such item.\n",
        "a = [\"bee\", \"ant\", \"moth\", \"ant\"]\n",
        "print(a.index('ant'))\n",
        "print(a.index('ant',2))\n",
        "\n",
        "#count(x)\t\n",
        "#Returns the number of times x appears in the list.\n",
        "a.extend(['ant','ant','moth'])\n",
        "print(a)\n",
        "print(a.count('ant'))\n",
        "print(a.count('moth'))\n",
        "\n",
        "\"\"\"\n",
        "sort(key=None, reverse=False)\t\n",
        "Sorts the items of the list in place. The arguments can be used to customize the operation.\n",
        "\n",
        "key\n",
        "Specifies a function of one argument that is used to extract a comparison key from each list element. The default value is None (compares the elements directly).\n",
        "reverse\n",
        "Boolean value. If set to True, then the list elements are sorted as if each comparison were reversed.\n",
        "\"\"\"\n",
        "b = [3,6,5,2,4,1]\n",
        "b.sort()\n",
        "print(b)\n",
        "b = [3,6,5,2,4,1]\n",
        "b.sort(reverse=True)\n",
        "print(b)\n",
        "a.sort()#on 'a'\n",
        "print(a)\n",
        "#if\n",
        "a = [\"bee\", \"wasp\", \"butterfly\"]\n",
        "a.sort(key=len)\n",
        "print(a)\n",
        "#using reverse=T\n",
        "a = [\"bee\", \"wasp\", \"butterfly\"]\n",
        "a.sort(key=len, reverse=True)\n",
        "print(a)\n",
        "\n",
        "#reverse()\t\n",
        "#Reverses the elements of the list in place.\n",
        "a = [\"bee\", \"wasp\", \"moth\", \"ant\"]\n",
        "a.reverse()\n",
        "print(a)\n",
        "\n",
        "\"\"\"\n",
        "copy()\t\n",
        "Returns a shallow copy of the list. Equivalent to a[:].\n",
        "\n",
        "Use the copy() method when you need to update the copy without affecting the original list. If you don't use this method \n",
        "(eg, if you do something like list2 = list1), then any updates you do to list2 will also affect list1.\n",
        "\n",
        "The example at the side demonstrates this.\n",
        "\"\"\"\n",
        "\n",
        "# WITHOUT copy()\n",
        "a = [\"bee\", \"wasp\", \"moth\"]\n",
        "b = a\n",
        "b.append(\"ant\")\n",
        "print(a)\n",
        "print(b)\n",
        "\n",
        "#with copy()\n",
        "a = [\"bee\", \"wasp\", \"moth\"]\n",
        "b = a.copy()\n",
        "b.append(\"ant\")\n",
        "print(a)\n",
        "print(b)\n",
        "\"\"\"\n",
        "len(s)\t\n",
        "Returns the number of items in the list.\n",
        "\n",
        "The len() function can be used on any sequence (such as a string, bytes, tuple, list, or range) or collection (such as a dictionary, set, or frozen set).\n",
        "\"\"\"\n",
        "a = [\"bee\", \"moth\", \"ant\"]\n",
        "print(len(a))\n",
        "\n",
        "\"\"\"\n",
        "list([iterable])\t\n",
        "The list() constructor returns a mutable sequence list of elements. The iterable argument is optional. You can provide any sequence or collection (such as a string, list, tuple, set, dictionary, etc). If no argument is supplied, an empty list is returned.\n",
        "\n",
        "Strictly speaking, list([iterable]) is actually a mutable sequence type.\n",
        "\"\"\"\n",
        "\n",
        "print(list())\n",
        "print(list([]))\n",
        "print(list([\"bee\", \"moth\", \"ant\"]))\n",
        "print(list([[\"bee\", \"moth\"], [\"ant\"]]))\n",
        "a= \"vedant\"\n",
        "print(list(a))\n",
        "\n",
        "a = {\"for\", \"the\", \"set\"}\n",
        "print(list(a))\n",
        "a=(\"for\",\"the\",\"tuple\")\n",
        "print(list(a))\n",
        "\n",
        "#max\n",
        "a = [\"bee\", \"moth\", \"ant\"]\n",
        "print(max(a))\n",
        "\n",
        "a = [\"bee\", \"moth\", \"wasp\"]\n",
        "print(max(a))\n",
        "\n",
        "a = [1, 2, 3, 4, 5]\n",
        "b = [1, 2, 3, 4]\n",
        "print(max(a, b))\n",
        "\n",
        "#min\n",
        "a = [\"bee\", \"moth\", \"wasp\"]\n",
        "print(min(a))\n",
        "\n",
        "a = [\"bee\", \"moth\", \"ant\"]\n",
        "print(min(a))\n",
        "\n",
        "a = [1, 2, 3, 4, 5]\n",
        "b = [1, 2, 3, 4]\n",
        "print(min(a, b))\n",
        "\n",
        "\"\"\"\n",
        "range(stop)\n",
        "\n",
        "or\n",
        "\n",
        "range(start, stop[, step])\n",
        "\n",
        "Represents an immutable sequence of numbers and is commonly used for looping a specific number of times in for loops.\n",
        "\n",
        "It can be used along with list() to return a list of items between a given range.\n",
        "\n",
        "Strictly speaking, range() is actually a mutable sequence type.\n",
        "\n",
        "\"\"\"\n",
        "print(list(range(10)))\n",
        "print(list(range(1,11)))\n",
        "print(list(range(51,56)))\n",
        "print(list(range(1,11,2)))"
      ],
      "execution_count": 3,
      "outputs": [
        {
          "output_type": "stream",
          "text": [
            "['ant', 'cockroach', 'bee', 'harvinderr']\n",
            "['ant', 'cockroach', 'bee', 'harvinderr', 'worm', 'flea']\n",
            "['ant', 'cockroach', 'bee', 'harvinderr', 'worm', 'flea', 'blackmamaba', 'honeybee']\n",
            "['ant', 'cockroach', 'bee_inserted', 'bee', 'harvinderr', 'worm', 'flea', 'blackmamaba', 'honeybee']\n",
            "['ant', 'cockroach', 'bee_inserted', 'bee', 'worm', 'flea', 'blackmamaba', 'honeybee']\n",
            "['ant', 'bee_inserted', 'bee', 'worm', 'flea', 'blackmamaba', 'honeybee']\n",
            "['ant', 'bee_inserted', 'bee', 'worm', 'flea', 'blackmamaba']\n",
            "[]\n",
            "['honeybee', 'villow', 'flea', 'bee', 'ant']\n",
            "[]\n",
            "1\n",
            "3\n",
            "['bee', 'ant', 'moth', 'ant', 'ant', 'ant', 'moth']\n",
            "4\n",
            "2\n",
            "[1, 2, 3, 4, 5, 6]\n",
            "[6, 5, 4, 3, 2, 1]\n",
            "['ant', 'ant', 'ant', 'ant', 'bee', 'moth', 'moth']\n",
            "['bee', 'wasp', 'butterfly']\n",
            "['butterfly', 'wasp', 'bee']\n",
            "['ant', 'moth', 'wasp', 'bee']\n",
            "['bee', 'wasp', 'moth', 'ant']\n",
            "['bee', 'wasp', 'moth', 'ant']\n",
            "['bee', 'wasp', 'moth']\n",
            "['bee', 'wasp', 'moth', 'ant']\n",
            "3\n",
            "[]\n",
            "[]\n",
            "['bee', 'moth', 'ant']\n",
            "[['bee', 'moth'], ['ant']]\n",
            "['v', 'e', 'd', 'a', 'n', 't']\n",
            "['for', 'the', 'set']\n",
            "['for', 'the', 'tuple']\n",
            "moth\n",
            "wasp\n",
            "[1, 2, 3, 4, 5]\n",
            "bee\n",
            "ant\n",
            "[1, 2, 3, 4]\n",
            "[0, 1, 2, 3, 4, 5, 6, 7, 8, 9]\n",
            "[1, 2, 3, 4, 5, 6, 7, 8, 9, 10]\n",
            "[51, 52, 53, 54, 55]\n",
            "[1, 3, 5, 7, 9]\n"
          ],
          "name": "stdout"
        }
      ]
    },
    {
      "cell_type": "code",
      "metadata": {
        "id": "eX9c9klkdP35",
        "colab_type": "code",
        "colab": {
          "base_uri": "https://localhost:8080/",
          "height": 102
        },
        "outputId": "749c3345-d37c-452a-e459-d9dcd2048420"
      },
      "source": [
        "#creating tuples:-\n",
        "\"\"\"\n",
        "A tuple is created by placing all the items (elements) inside parentheses (), separated by commas. The parentheses are optional, however, it is a good practice to use them.\n",
        "A tuple can have any number of items and they may be of different types (integer, float, list, string, etc.).\n",
        "\"\"\"\n",
        "# Empty tuple\n",
        "ved_tuple = ()\n",
        "print(ved_tuple)  # Output: ()\n",
        "\n",
        "# Tuple having integers\n",
        "dre_tuple = (1,2,3,4,5,8,9)\n",
        "print(dre_tuple)  # Output: (1,2,3,4,5,8,9) \n",
        "\n",
        "# tuple with mixed datatypes\n",
        "Mixed_tuple = (1,\"Hello\",3.4,\"vedant\")\n",
        "print(Mixed_tuple)  # Output: (1, \"Hello\", 3.4,\"vedant\")  \n",
        "\n",
        "# nested tuple\n",
        "Nested_tuple = (\"mouse\", (8, 4, 6), (1, 2, 3))\n",
        "\n",
        "# Output: (\"mouse\", (8, 4, 6), (1, 2, 3)) \n",
        "print(Nested_tuple)\n",
        "\n",
        "#tuple with nested list\n",
        "Nested_List_Tuple=(\"List\",[1,2,3,4],\"Tuple\",(5,6,7,8,9))\n",
        "print(Nested_List_Tuple)"
      ],
      "execution_count": 6,
      "outputs": [
        {
          "output_type": "stream",
          "text": [
            "()\n",
            "(1, 2, 3, 4, 5, 8, 9)\n",
            "(1, 'Hello', 3.4, 'vedant')\n",
            "('mouse', (8, 4, 6), (1, 2, 3))\n",
            "('List', [1, 2, 3, 4], 'Tuple', (5, 6, 7, 8, 9))\n"
          ],
          "name": "stdout"
        }
      ]
    },
    {
      "cell_type": "code",
      "metadata": {
        "id": "bJbE9CXufAkb",
        "colab_type": "code",
        "colab": {
          "base_uri": "https://localhost:8080/",
          "height": 102
        },
        "outputId": "1f9489f2-456d-44fd-cc8a-ca80e5abd27a"
      },
      "source": [
        "# A tuple can also be created without using parentheses. This is known as tuple packing.\n",
        "without_parentheses=\"vedant\",365,\"@\",\"gmail.com\"\n",
        "print(without_parentheses)\n",
        "#tuple unpacking as follows:-\n",
        "a,b,c,d=without_parentheses\n",
        "print(a)\n",
        "print(b)\n",
        "print(c)\n",
        "print(d)\n",
        "#if we add-on another unpacking variable more than the elements in tuple then we get ERROR:not enough values to unpack "
      ],
      "execution_count": 14,
      "outputs": [
        {
          "output_type": "stream",
          "text": [
            "('vedant', 365, '@', 'gmail.com')\n",
            "vedant\n",
            "365\n",
            "@\n",
            "gmail.com\n"
          ],
          "name": "stdout"
        }
      ]
    },
    {
      "cell_type": "code",
      "metadata": {
        "id": "YapJYJQOgoUo",
        "colab_type": "code",
        "colab": {
          "base_uri": "https://localhost:8080/",
          "height": 68
        },
        "outputId": "67ecb5c6-8240-4b79-8f62-751ad69fffc2"
      },
      "source": [
        "#Creating a tuple with one element is a bit tricky.\n",
        "#Having one element within parentheses is not enough. We will need a trailing comma to indicate that it is, in fact, a tuple.\n",
        "unit_tuple = (\"vedant\")\n",
        "print(type(unit_tuple))  # <class 'str'>\n",
        "\n",
        "# Creating a tuple having one element\n",
        "unit_tuple = (\"vedant\",)  \n",
        "print(type(unit_tuple))  # <class 'tuple'> \n",
        "\n",
        "# Parentheses is optional\n",
        "unit_tuple = \"hello\",\n",
        "print(type(unit_tuple))  # <class 'tuple'> "
      ],
      "execution_count": 15,
      "outputs": [
        {
          "output_type": "stream",
          "text": [
            "<class 'str'>\n",
            "<class 'tuple'>\n",
            "<class 'tuple'>\n"
          ],
          "name": "stdout"
        }
      ]
    },
    {
      "cell_type": "code",
      "metadata": {
        "id": "CjJd_IgChXM6",
        "colab_type": "code",
        "colab": {
          "base_uri": "https://localhost:8080/",
          "height": 102
        },
        "outputId": "09a10f26-6e65-48b6-d6d1-49dd8f07d607"
      },
      "source": [
        "#Access Tuple Elements\n",
        "#There are various ways in which we can access the elements of a tuple:-\n",
        "\"\"\"\n",
        "1. Indexing:-\n",
        "We can use the index operator [] to access an item in a tuple where the index starts from 0.\n",
        "So, a tuple having 6 elements will have indices from 0 to 5. Trying to access an element outside of tuple (for example, 6, 7,...) will raise an IndexError.\n",
        "The index must be an integer; so we cannot use float or other types. This will result in TypeError.\n",
        "Likewise, nested tuples are accessed using nested indexing, as shown in the example below.\n",
        "\"\"\"\n",
        "my_tuple = ('p','e','r','m','i','t')\n",
        "\n",
        "print(my_tuple[0])   # 'p' \n",
        "print(my_tuple[5])   # 't'\n",
        "\n",
        "# IndexError: list index out of range\n",
        "# print(my_tuple[6])\n",
        "\n",
        "# Index must be an integer\n",
        "# TypeError: list indices must be integers, not float\n",
        "# my_tuple[2.0]\n",
        "\n",
        "# nested tuple\n",
        "n_tuple = (\"mouse\", [8, 4, 6], (1, 2, 3))\n",
        "\n",
        "# nested index\n",
        "print(n_tuple[0][3])       # 's' of the \"mouse\"\n",
        "print(n_tuple[1][1])       # 4  of the [8,4,6]\n",
        "print(n_tuple[2][1])       # 2 of (1,2,3)"
      ],
      "execution_count": 16,
      "outputs": [
        {
          "output_type": "stream",
          "text": [
            "p\n",
            "t\n",
            "s\n",
            "4\n",
            "2\n"
          ],
          "name": "stdout"
        }
      ]
    },
    {
      "cell_type": "code",
      "metadata": {
        "id": "nh6j0NyWjBd1",
        "colab_type": "code",
        "colab": {
          "base_uri": "https://localhost:8080/",
          "height": 51
        },
        "outputId": "4e627fe9-ee42-4ca5-dfd9-2d5123cb64d6"
      },
      "source": [
        "\"\"\" 2. Negative Indexing\n",
        "\n",
        "Python allows negative indexing for its sequences.\n",
        "\n",
        "The index of -1 refers to the last item, -2 to the second last item and so on.\n",
        "\"\"\"\n",
        "my_tuple = ('p','e','r','m','i','t')\n",
        "\n",
        "# Output: 't'\n",
        "print(my_tuple[-1])\n",
        "\n",
        "# Output: 'p'\n",
        "print(my_tuple[-6])\n"
      ],
      "execution_count": 17,
      "outputs": [
        {
          "output_type": "stream",
          "text": [
            "t\n",
            "p\n"
          ],
          "name": "stdout"
        }
      ]
    },
    {
      "cell_type": "code",
      "metadata": {
        "id": "FJPQzlutj4MR",
        "colab_type": "code",
        "colab": {
          "base_uri": "https://localhost:8080/",
          "height": 85
        },
        "outputId": "a524d4c3-8ec9-4fdc-ff51-7574f50fd4a3"
      },
      "source": [
        "\"\"\"3. Slicing\n",
        "We can access a range of items in a tuple by using the slicing operator - colon \":\" or in R-language its called subsetting-method with the help of vectors like 'NUM:NUM'\n",
        "\"\"\"\n",
        "my_tuple = ('p','r','o','g','r','a','m','i','z')\n",
        "\n",
        "# elements 2nd to 4th\n",
        "# Output: ('r', 'o', 'g')\n",
        "print(my_tuple[1:4])\n",
        "\n",
        "# elements beginning to 2nd\n",
        "# Output: ('p', 'r')\n",
        "print(my_tuple[:-7])\n",
        "\n",
        "# elements 8th to end\n",
        "# Output: ('i', 'z')\n",
        "print(my_tuple[7:])\n",
        "\n",
        "# elements beginning to end\n",
        "# Output: ('p', 'r', 'o', 'g', 'r', 'a', 'm', 'i', 'z')\n",
        "print(my_tuple[:])"
      ],
      "execution_count": 18,
      "outputs": [
        {
          "output_type": "stream",
          "text": [
            "('r', 'o', 'g')\n",
            "('p', 'r')\n",
            "('i', 'z')\n",
            "('p', 'r', 'o', 'g', 'r', 'a', 'm', 'i', 'z')\n"
          ],
          "name": "stdout"
        }
      ]
    },
    {
      "cell_type": "code",
      "metadata": {
        "id": "hKDWEx9xkYGs",
        "colab_type": "code",
        "colab": {
          "base_uri": "https://localhost:8080/",
          "height": 51
        },
        "outputId": "ef2bd710-7639-4ffc-aaad-55ca3b256adb"
      },
      "source": [
        "\"\"\"4.Changing a Tuple\n",
        "Unlike lists, tuples are immutable.\n",
        "\n",
        "This means that elements of a tuple cannot be changed once it has been assigned. But, if the element is itself a mutable datatype like list, its nested items can be changed.\n",
        "\n",
        "We can also assign a tuple to different values (reassignment).\"\"\"\n",
        "\n",
        "my_tuple = (4, 2, 3, [6, 5])\n",
        "\n",
        "\n",
        "# TypeError: 'tuple' object does not support item assignment\n",
        "# my_tuple[1] = 9                          here we trying to replace 2 with 9\n",
        "\n",
        "# However, item of mutable element can be changed\n",
        "my_tuple[3][0] = 9    # Output: (4, 2, 3, [9, 5])\n",
        "print(my_tuple)       #here we suceesfully replace 6 with 9\n",
        "\n",
        "# Tuples can be reassigned\n",
        "my_tuple = ('v','e','d','a','n','t','d','r','e')\n",
        "\n",
        "print(my_tuple) #now its prints newly assigned one as usual"
      ],
      "execution_count": 19,
      "outputs": [
        {
          "output_type": "stream",
          "text": [
            "(4, 2, 3, [9, 5])\n",
            "('v', 'e', 'd', 'a', 'n', 't', 'd', 'r', 'e')\n"
          ],
          "name": "stdout"
        }
      ]
    },
    {
      "cell_type": "code",
      "metadata": {
        "id": "vy6MwJvPl22K",
        "colab_type": "code",
        "colab": {
          "base_uri": "https://localhost:8080/",
          "height": 51
        },
        "outputId": "4022dade-8d0d-479e-84d9-d4ddb0693a25"
      },
      "source": [
        "\"\"\"\n",
        "We can use + operator to combine two tuples. This is also called concatenation.\n",
        "We can also repeat the elements in a tuple for a given number of times using the * operator.\n",
        "Both + and * operations result in a new tuple.\n",
        "\"\"\"# Concatenation\n",
        "# Output: (1, 2, 3, 4, 5, 6)\n",
        "print((1, 2, 3) + (4, 5, 6))\n",
        "\n",
        "# Repeat/replicate\n",
        "# Output: ('vedant', 'vedant', 'vedant')\n",
        "print((\"vedant\",) * 3)\n"
      ],
      "execution_count": 22,
      "outputs": [
        {
          "output_type": "stream",
          "text": [
            "(1, 2, 3, 4, 5, 6)\n",
            "('vedant', 'vedant', 'vedant')\n"
          ],
          "name": "stdout"
        }
      ]
    },
    {
      "cell_type": "code",
      "metadata": {
        "id": "8F-dLCa2mrZL",
        "colab_type": "code",
        "colab": {
          "base_uri": "https://localhost:8080/",
          "height": 197
        },
        "outputId": "955221cb-df3f-42e1-ab48-cd067fde6791"
      },
      "source": [
        "\"\"\"Deleting a Tuple\n",
        "As discussed above, we cannot change the elements in a tuple. That also means we cannot delete or remove items from a tuple.\n",
        "\n",
        "But deleting a tuple entirely is possible using the keyword del.\n",
        "\"\"\"\n",
        "my_tuple = ('v','d','a','n','t','d','r','e','e')\n",
        "\n",
        "# can't delete items\n",
        "# TypeError: 'tuple' object doesn't support item deletion\n",
        "# del my_tuplele[3] #trying to delete 'n'element of my_tuple \n",
        "\n",
        "# Can delete an entire tuple\n",
        "del my_tuple\n",
        "\n",
        "# NameError: name 'my_tuple' is not defined\n",
        "print(my_tuple)"
      ],
      "execution_count": 25,
      "outputs": [
        {
          "output_type": "error",
          "ename": "NameError",
          "evalue": "ignored",
          "traceback": [
            "\u001b[0;31m---------------------------------------------------------------------------\u001b[0m",
            "\u001b[0;31mNameError\u001b[0m                                 Traceback (most recent call last)",
            "\u001b[0;32m<ipython-input-25-3e2e62b86468>\u001b[0m in \u001b[0;36m<module>\u001b[0;34m()\u001b[0m\n\u001b[1;32m     14\u001b[0m \u001b[0;34m\u001b[0m\u001b[0m\n\u001b[1;32m     15\u001b[0m \u001b[0;31m# NameError: name 'my_tuple' is not defined\u001b[0m\u001b[0;34m\u001b[0m\u001b[0;34m\u001b[0m\u001b[0;34m\u001b[0m\u001b[0m\n\u001b[0;32m---> 16\u001b[0;31m \u001b[0mprint\u001b[0m\u001b[0;34m(\u001b[0m\u001b[0mmy_tuple\u001b[0m\u001b[0;34m)\u001b[0m\u001b[0;34m\u001b[0m\u001b[0;34m\u001b[0m\u001b[0m\n\u001b[0m",
            "\u001b[0;31mNameError\u001b[0m: name 'my_tuple' is not defined"
          ]
        }
      ]
    },
    {
      "cell_type": "code",
      "metadata": {
        "id": "_c9AfcBXnqp8",
        "colab_type": "code",
        "colab": {
          "base_uri": "https://localhost:8080/",
          "height": 51
        },
        "outputId": "edc315bd-a501-4201-f823-9fa8847c3fe8"
      },
      "source": [
        "#Tuple Methods:-\n",
        "\"\"\"Methods that add items or remove items are not available with tuple. Only the following two methods are available:=\n",
        "Method:\t  Description:\n",
        "count(x)\tReturns the number of items x\n",
        "index(x)\tReturns the index of the first item that is equal to x\n",
        "\"\"\"\n",
        "my_tuple = ('a','p','p','l','e',)\n",
        "\n",
        "print(my_tuple.count('p'))  # Output: 2\n",
        "print(my_tuple.index('l'))  # Output: 3"
      ],
      "execution_count": 28,
      "outputs": [
        {
          "output_type": "stream",
          "text": [
            "2\n",
            "3\n"
          ],
          "name": "stdout"
        }
      ]
    },
    {
      "cell_type": "code",
      "metadata": {
        "id": "4appShJqoqR5",
        "colab_type": "code",
        "colab": {
          "base_uri": "https://localhost:8080/",
          "height": 68
        },
        "outputId": "42074467-3fee-4b1b-fd48-d7f3c3bdf0b6"
      },
      "source": [
        "\"\"\"\n",
        "Tuple Membership Test\n",
        "We can test if an item exists in a tuple or not, using the keyword in/not in.\n",
        "\"\"\"\n",
        "my_tuple = ('a','p','p','l','e',)\n",
        "\n",
        "# In operation\n",
        "# Output: True\n",
        "print('a' in my_tuple)\n",
        "\n",
        "# Output: False\n",
        "print('b' in my_tuple)\n",
        "\n",
        "# Not in operation\n",
        "# Output: True\n",
        "print('g' not in my_tuple)"
      ],
      "execution_count": 31,
      "outputs": [
        {
          "output_type": "stream",
          "text": [
            "True\n",
            "False\n",
            "True\n"
          ],
          "name": "stdout"
        }
      ]
    },
    {
      "cell_type": "code",
      "metadata": {
        "id": "-ZrlFk5apPBO",
        "colab_type": "code",
        "colab": {
          "base_uri": "https://localhost:8080/",
          "height": 153
        },
        "outputId": "c4705466-146f-4533-f92c-b14fe3266119"
      },
      "source": [
        "\"\"\"Iterating Through a Tuple\n",
        "Using a for loop we can iterate through each item in a tuple.\"\"\"\n",
        "name_tuple=(\"vedant\",\"harvinder\",\"simranjeet\",\"saurav\",\"gaurav\",\"zahid\",\"abhijeet\",\"shubhum\")\n",
        "for names in name_tuple:\n",
        "  print(\"Hello , nice to meet you\",names)"
      ],
      "execution_count": 33,
      "outputs": [
        {
          "output_type": "stream",
          "text": [
            "Hello , nice to meet you vedant\n",
            "Hello , nice to meet you harvinder\n",
            "Hello , nice to meet you simranjeet\n",
            "Hello , nice to meet you saurav\n",
            "Hello , nice to meet you gaurav\n",
            "Hello , nice to meet you zahid\n",
            "Hello , nice to meet you abhijeet\n",
            "Hello , nice to meet you shubhum\n"
          ],
          "name": "stdout"
        }
      ]
    }
  ]
}