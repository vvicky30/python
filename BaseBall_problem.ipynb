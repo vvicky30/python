{
  "nbformat": 4,
  "nbformat_minor": 0,
  "metadata": {
    "colab": {
      "name": "BaseBall_problem.ipynb",
      "provenance": [],
      "include_colab_link": true
    },
    "kernelspec": {
      "name": "python3",
      "display_name": "Python 3"
    }
  },
  "cells": [
    {
      "cell_type": "markdown",
      "metadata": {
        "id": "view-in-github",
        "colab_type": "text"
      },
      "source": [
        "<a href=\"https://colab.research.google.com/github/vvicky30/python/blob/master/BaseBall_problem.ipynb\" target=\"_parent\"><img src=\"https://colab.research.google.com/assets/colab-badge.svg\" alt=\"Open In Colab\"/></a>"
      ]
    },
    {
      "cell_type": "code",
      "metadata": {
        "id": "X1APFIulHO8D",
        "colab_type": "code",
        "colab": {}
      },
      "source": [
        "class BaseBall:\n",
        "    sumBA=0 #batting AVERAGE\n",
        "    sumSA=0 #sludging AVERAGE\n",
        "    teams=0 #baseball TEAMS\n",
        "    \"\"\"\n",
        "     self represents the instance of the class.\n",
        "     By using the \"self\" keyword we can access the attributes and methods of the class in python.\n",
        "    \"\"\"\n",
        "    def __init__(self,*teamData): #*optional argument here its 'teamData'\n",
        "        self.name = teamData[0] #here we used the slicing for the names of teams \n",
        "        \n",
        "        #further below followed by 7 integer values:-\n",
        "        self.gamesPlayed = int(teamData[1] )#Games played\n",
        "        self.atBats = int(teamData[2]) #At Bats\n",
        "        self.runs = int(teamData[3]) #runs\n",
        "        self.totalHits = int(teamData[4]) #Hits(total)\n",
        "        \n",
        "        #further two/three/homeRuns(Hits):-   \n",
        "        self.twoHits = int(teamData[5])\n",
        "        self.threeHits = int(teamData[6])\n",
        "        self.homeRuns = int(teamData[7])\n",
        "        #for oneHIts ; we subract whole homeRuns & two/theree Hits\n",
        "        self.oneHits = self.totalHits-self.homeRuns-self.twoHits-self.threeHits\n",
        "\n",
        "        self.BA = self.totalHits/self.atBats #batting AVERAGE can be retrived as\n",
        "        \"\"\"\n",
        "        acording to given formula:-\n",
        "        (oneBaseHits*twoBaseHits*threeBaseHits*homeRuns)/atBats (for all players)\n",
        "        \"\"\"\n",
        "        self.SA = (self.oneHits+2*self.twoHits+3*self.threeHits+4*self.homeRuns)/self.atBats #slubging AVERAGE\n",
        "\n",
        "        BaseBall.sumBA += self.BA\n",
        "        BaseBall.sumSA += self.SA\n",
        "        BaseBall.teams += 1 #initialize\n"
      ],
      "execution_count": 0,
      "outputs": []
    },
    {
      "cell_type": "code",
      "metadata": {
        "id": "wmKNErrzSYkA",
        "colab_type": "code",
        "colab": {
          "base_uri": "https://localhost:8080/",
          "height": 255
        },
        "outputId": "10e4a478-d369-4bbb-c187-de7b923774eb"
      },
      "source": [
        " #now structuring as the requested output:-\n",
        "def Driver():\n",
        "    print(data[0]) #2011-----HEADING\n",
        "    print(\"=\"*25)  #25 times STARTING\n",
        "    for team in teams:\n",
        "        print(team.name+\":\",format(team.BA, \".3f\")[1:],format(team.SA, \".3f\")[1:])  #upto 3 decimal-values\n",
        "    print(\"=\"*25)  #25 times ENDING\n",
        "    print(\"Big 10 Av:\",format(BaseBall.sumBA/BaseBall.teams, \".3f\")[1:],format(BaseBall.sumSA/BaseBall.teams, \".3f\")[1:])\n",
        " #all big 10 AVERAGE of the batting/sludging AVERAGE(for all 10 teams);upto 3 decimal-values\n",
        "\n",
        " #driver_code:-\n",
        "data = open(\"DATA11.txt\",\"r\").read().split(\"\\n\") #splitting at newlines while rading text file\n",
        "teams = []\n",
        "for i in range(1,len(data)):      # as same as given input data's leangth\n",
        "    teams.append(BaseBall(*data[i].split())) # append in to the list of teams\n",
        "Driver()"
      ],
      "execution_count": 22,
      "outputs": [
        {
          "output_type": "stream",
          "text": [
            "2011 Regular Season\n",
            "=========================\n",
            "Boston: .280 .461\n",
            "NY_Yankees: .263 .444\n",
            "Texas: .283 .460\n",
            "Detroit: .277 .434\n",
            "St.Louis: .273 .425\n",
            "Toronto: .249 .413\n",
            "Cincinnati: .256 .408\n",
            "Colorado: .258 .410\n",
            "Arizona: .250 .413\n",
            "Kansas_City: .275 .415\n",
            "=========================\n",
            "Big 10 Av: .266 .428\n"
          ],
          "name": "stdout"
        }
      ]
    }
  ]
}