{
  "nbformat": 4,
  "nbformat_minor": 0,
  "metadata": {
    "colab": {
      "name": "EX3.2_Decimal_Equivalents.ipynb",
      "provenance": [],
      "collapsed_sections": [],
      "include_colab_link": true
    },
    "kernelspec": {
      "name": "python3",
      "display_name": "Python 3"
    }
  },
  "cells": [
    {
      "cell_type": "markdown",
      "metadata": {
        "id": "view-in-github",
        "colab_type": "text"
      },
      "source": [
        "<a href=\"https://colab.research.google.com/github/vvicky30/python/blob/master/EX3_2_Decimal_Equivalents.ipynb\" target=\"_parent\"><img src=\"https://colab.research.google.com/assets/colab-badge.svg\" alt=\"Open In Colab\"/></a>"
      ]
    },
    {
      "cell_type": "code",
      "metadata": {
        "id": "Srl2Nr34sF6c",
        "colab_type": "code",
        "colab": {
          "base_uri": "https://localhost:8080/",
          "height": 170
        },
        "outputId": "1c9ab107-68f2-47e0-bdfb-e3930546e568"
      },
      "source": [
        "#Using a for loop, write a program that prints out the decimal equivalents of 1/2, 1/3,1/4, . . . , 1/10\n",
        "\"\"\"\n",
        "All these fractions here are unit fractions. Which means, they have the 1 on the top and there are natural numbers on the bottom.\n",
        "1 / number = unit fraction.\n",
        "The numerator shall ALWAYS be 1.\n",
        "The denominator values are starting from 2 and ending at 10. Which means, for our range, the start would be 2 and the end would be 11.\n",
        "\"\"\"\n",
        "for i in range(2,11):\n",
        "   a=1/i\n",
        "\n",
        "   print(\"%.3f\"%a) #allowing 3-values after decimal"
      ],
      "execution_count": 7,
      "outputs": [
        {
          "output_type": "stream",
          "text": [
            "0.500\n",
            "0.333\n",
            "0.250\n",
            "0.200\n",
            "0.167\n",
            "0.143\n",
            "0.125\n",
            "0.111\n",
            "0.100\n"
          ],
          "name": "stdout"
        }
      ]
    }
  ]
}