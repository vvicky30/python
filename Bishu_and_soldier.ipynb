{
  "nbformat": 4,
  "nbformat_minor": 0,
  "metadata": {
    "colab": {
      "name": "Bishu and soldier.ipynb",
      "provenance": [],
      "authorship_tag": "ABX9TyNDoqAPMDZf1i5Qy3p9MX1H",
      "include_colab_link": true
    },
    "kernelspec": {
      "name": "python3",
      "display_name": "Python 3"
    }
  },
  "cells": [
    {
      "cell_type": "markdown",
      "metadata": {
        "id": "view-in-github",
        "colab_type": "text"
      },
      "source": [
        "<a href=\"https://colab.research.google.com/github/vvicky30/python/blob/master/Bishu_and_soldier.ipynb\" target=\"_parent\"><img src=\"https://colab.research.google.com/assets/colab-badge.svg\" alt=\"Open In Colab\"/></a>"
      ]
    },
    {
      "cell_type": "markdown",
      "metadata": {
        "id": "zL57poAtEYA0",
        "colab_type": "text"
      },
      "source": [
        "#problem\n",
        "Bishu went to fight for Coding Club. There were N soldiers with various powers. There will be Q rounds to fight and in each round Bishu's power will be varied. With power M, Bishu can kill all the soldiers whose power is less than or equal to M(<=M). After each round, All the soldiers who are dead in previous round will reborn.Such that in each round there will be N soldiers to fight. As Bishu is weak in mathematics, help him to count the number of soldiers that he can kill in each round and total sum of their powers.\n",
        "\n",
        "1<=N<=10000\n",
        "\n",
        "1<=power of each soldier<=100\n",
        "\n",
        "1<=Q<=10000\n",
        "\n",
        "1<=power of bishu<=100\n",
        "\n",
        "##sample input:\n",
        "7\n",
        "\n",
        "1 2 3 4 5 6 7\n",
        "\n",
        "3\n",
        "\n",
        "3\n",
        "\n",
        "10\n",
        "\n",
        "2\n",
        "\n",
        "##sample output:\n",
        "3 6\n",
        "\n",
        "7 28\n",
        "\n",
        "2 3\n",
        "\n",
        "##Explanation:-\n",
        "In first round bhishu power is 3\n",
        "\n",
        "So there are 3 soldiers whose power is <=3 and the sum of their power is 1+2+3=6\n",
        "\n",
        "therefore ans= 3 6\n",
        "\n",
        "same for the next round"
      ]
    },
    {
      "cell_type": "code",
      "metadata": {
        "id": "IU2ceaIh6rzF",
        "colab_type": "code",
        "colab": {
          "base_uri": "https://localhost:8080/",
          "height": 168
        },
        "outputId": "9891eb12-1114-43ae-ad1d-548444ffbf68"
      },
      "source": [
        "def binarySearchCount(arr, n, key): \n",
        "  \n",
        "    left = 0\n",
        "    right = n \n",
        "   \n",
        "    mid = 0\n",
        "    while (left < right): \n",
        "      \n",
        "        mid = (right + left)//2\n",
        "   \n",
        "        # Check if key is present in array \n",
        "        if (arr[mid] == key): \n",
        "          \n",
        "            # If duplicates are \n",
        "            # present it returns \n",
        "            # the position of last element \n",
        "            while (mid + 1<n and arr[mid + 1] == key): \n",
        "                 mid+= 1\n",
        "            break\n",
        "          \n",
        "   \n",
        "        # If key is smaller, \n",
        "        # ignore right half \n",
        "        elif (arr[mid] > key): \n",
        "            right = mid \n",
        "   \n",
        "        # If key is greater, \n",
        "        # ignore left half \n",
        "        else: \n",
        "            left = mid + 1\n",
        "      \n",
        "   \n",
        "    # If key is not found in \n",
        "    # array then it will be \n",
        "    # before mid \n",
        "    while (mid > -1 and  arr[mid] > key): \n",
        "        mid-= 1\n",
        "   \n",
        "    # Return mid + 1 because \n",
        "    # of 0-based indexing \n",
        "    # of array \n",
        "    return mid + 1\n",
        "  \n",
        "# Driver code \n",
        "n = int(input())  \n",
        "arr =list(map(int,input().split()))[:n]\n",
        "r=int(input())\n",
        "for i in range(r):\n",
        "  key=int(input())\n",
        "  v=binarySearchCount(arr, n, key) \n",
        "  sum=0\n",
        "  for i in range(v):\n",
        "    sum=sum+arr[i]\n",
        "  print(v,sum)\n",
        "\n"
      ],
      "execution_count": 27,
      "outputs": [
        {
          "output_type": "stream",
          "text": [
            "7\n",
            "1 2 3 4 5 6 7\n",
            "3\n",
            "3\n",
            "3 6\n",
            "10\n",
            "7 28\n",
            "2\n",
            "2 3\n"
          ],
          "name": "stdout"
        }
      ]
    }
  ]
}