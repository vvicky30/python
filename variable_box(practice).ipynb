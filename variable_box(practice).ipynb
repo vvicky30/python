{
  "nbformat": 4,
  "nbformat_minor": 0,
  "metadata": {
    "colab": {
      "name": "variable_box(practice).ipynb",
      "provenance": [],
      "collapsed_sections": [],
      "authorship_tag": "ABX9TyPxBSVaIcB5Erg7dI/3P8pR",
      "include_colab_link": true
    },
    "kernelspec": {
      "name": "python3",
      "display_name": "Python 3"
    }
  },
  "cells": [
    {
      "cell_type": "markdown",
      "metadata": {
        "id": "view-in-github",
        "colab_type": "text"
      },
      "source": [
        "<a href=\"https://colab.research.google.com/github/vvicky30/python/blob/master/variable_box(practice).ipynb\" target=\"_parent\"><img src=\"https://colab.research.google.com/assets/colab-badge.svg\" alt=\"Open In Colab\"/></a>"
      ]
    },
    {
      "cell_type": "code",
      "metadata": {
        "id": "3QsbLL-LAj2q",
        "colab_type": "code",
        "colab": {}
      },
      "source": [
        "import antigravity"
      ],
      "execution_count": 0,
      "outputs": []
    },
    {
      "cell_type": "code",
      "metadata": {
        "id": "pz9aA7NKAotq",
        "colab_type": "code",
        "colab": {}
      },
      "source": [
        "import webbrowser\n",
        "import hashlib\n",
        "\n",
        "webbrowser.open(\"https://xkcd.com/353/\")\n",
        "\n",
        "def geohash(latitude, longitude, datedow):\n",
        "    '''Compute geohash() using the Munroe algorithm.\n",
        "    >>> geohash(37.421542, -122.085589, b'2005-05-26-10458.68')\n",
        "    37.857713 -122.544543\n",
        "    '''\n",
        "    # https://xkcd.com/426/\n",
        "    h = hashlib.md5(datedow).hexdigest()\n",
        "    p, q = [('%f' % float.fromhex('0.' + x)) for x in (h[:16], h[16:32])]\n",
        "    print('%d%s %d%s' % (latitude, p[1:], longitude, q[1:]))"
      ],
      "execution_count": 0,
      "outputs": []
    },
    {
      "cell_type": "code",
      "metadata": {
        "id": "rFQTKJ6BpyZd",
        "colab_type": "code",
        "outputId": "c83b30aa-a6ff-4721-da32-7f1538f29098",
        "colab": {
          "base_uri": "https://localhost:8080/",
          "height": 33
        }
      },
      "source": [
        "a=15\n",
        "a<<3\n"
      ],
      "execution_count": 0,
      "outputs": [
        {
          "output_type": "execute_result",
          "data": {
            "text/plain": [
              "120"
            ]
          },
          "metadata": {
            "tags": []
          },
          "execution_count": 2
        }
      ]
    },
    {
      "cell_type": "code",
      "metadata": {
        "id": "c3usXN_6ruvj",
        "colab_type": "code",
        "colab": {
          "base_uri": "https://localhost:8080/",
          "height": 33
        },
        "outputId": "3b0e5154-93d4-4198-c27f-1b7b9857b124"
      },
      "source": [
        "a=5\n",
        "if(a==4):\n",
        "  peint(\"1\")\n",
        "elif(a==5):\n",
        "  print(\"2\")\n",
        "else:\n",
        "  print(\"3\")"
      ],
      "execution_count": 1,
      "outputs": [
        {
          "output_type": "stream",
          "text": [
            "2\n"
          ],
          "name": "stdout"
        }
      ]
    },
    {
      "cell_type": "code",
      "metadata": {
        "id": "FVbGQYKqvonj",
        "colab_type": "code",
        "colab": {
          "base_uri": "https://localhost:8080/",
          "height": 33
        },
        "outputId": "31b505a3-1f1d-48ca-b9c0-4b1ef95ee846"
      },
      "source": [
        "#write a program to print first 10 natual number\n",
        "sum=0\n",
        "for i in range(1,11,1):\n",
        "  sum=sum+i\n",
        "print(sum)"
      ],
      "execution_count": 9,
      "outputs": [
        {
          "output_type": "stream",
          "text": [
            "55\n"
          ],
          "name": "stdout"
        }
      ]
    },
    {
      "cell_type": "code",
      "metadata": {
        "id": "fE7cBs0TyRDz",
        "colab_type": "code",
        "colab": {
          "base_uri": "https://localhost:8080/",
          "height": 33
        },
        "outputId": "69ac046e-4cfe-456f-a977-38f2717bce21"
      },
      "source": [
        "sum=0\n",
        "for i in range(10,0,-1):\n",
        "  sum=sum+i\n",
        "print(sum)"
      ],
      "execution_count": 10,
      "outputs": [
        {
          "output_type": "stream",
          "text": [
            "55\n"
          ],
          "name": "stdout"
        }
      ]
    },
    {
      "cell_type": "code",
      "metadata": {
        "id": "GshaYxK7zYJa",
        "colab_type": "code",
        "colab": {
          "base_uri": "https://localhost:8080/",
          "height": 117
        },
        "outputId": "17a59056-e1eb-4af8-bf22-e6fbccfbdfc2"
      },
      "source": [
        "print(\"Second Number Pattern \")\n",
        "lastNumber = 6\n",
        "for row in range(1, lastNumber):\n",
        "    for column in range(1, row + 1):\n",
        "        print(row, end=' ')\n",
        "    print(\"\")"
      ],
      "execution_count": 12,
      "outputs": [
        {
          "output_type": "stream",
          "text": [
            "Second Number Pattern \n",
            "1 \n",
            "2 2 \n",
            "3 3 3 \n",
            "4 4 4 4 \n",
            "5 5 5 5 5 \n"
          ],
          "name": "stdout"
        }
      ]
    },
    {
      "cell_type": "code",
      "metadata": {
        "id": "gVyZl2Yt1mWT",
        "colab_type": "code",
        "colab": {
          "base_uri": "https://localhost:8080/",
          "height": 117
        },
        "outputId": "d54feda1-ed3b-444d-9a9a-df05ccb61df7"
      },
      "source": [
        "print(\"Second Number Pattern \")\n",
        "lastNumber = 6\n",
        "for row in range(1, lastNumber):\n",
        "    for column in range(1, row + 1):\n",
        "        print(column, end=' ')\n",
        "    print(\"\")"
      ],
      "execution_count": 13,
      "outputs": [
        {
          "output_type": "stream",
          "text": [
            "Second Number Pattern \n",
            "1 \n",
            "1 2 \n",
            "1 2 3 \n",
            "1 2 3 4 \n",
            "1 2 3 4 5 \n"
          ],
          "name": "stdout"
        }
      ]
    },
    {
      "cell_type": "code",
      "metadata": {
        "id": "8-aLW7MV4MTj",
        "colab_type": "code",
        "colab": {
          "base_uri": "https://localhost:8080/",
          "height": 117
        },
        "outputId": "e6cf342e-aafd-45fb-b7cb-15cb367181f9"
      },
      "source": [
        "print(\"Second Number Pattern \")\n",
        "lastNumber = 6\n",
        "for row in range(1, lastNumber):\n",
        "    for column in range(1, row + 1):\n",
        "        print(\"*\", end=' ')\n",
        "    print(\"\")"
      ],
      "execution_count": 15,
      "outputs": [
        {
          "output_type": "stream",
          "text": [
            "Second Number Pattern \n",
            "* \n",
            "* * \n",
            "* * * \n",
            "* * * * \n",
            "* * * * * \n"
          ],
          "name": "stdout"
        }
      ]
    },
    {
      "cell_type": "code",
      "metadata": {
        "id": "ZUGoPQFk4RyS",
        "colab_type": "code",
        "colab": {
          "base_uri": "https://localhost:8080/",
          "height": 117
        },
        "outputId": "7e82a5b5-33af-48a6-c72f-70686c775267"
      },
      "source": [
        "print(\"Second Number Pattern \")\n",
        "lastNumber = 6\n",
        "for row in range(1, lastNumber):\n",
        "    for column in range(1, row + 1):\n",
        "        print(2**row, end=' ')\n",
        "    print(\"\")"
      ],
      "execution_count": 16,
      "outputs": [
        {
          "output_type": "stream",
          "text": [
            "Second Number Pattern \n",
            "2 \n",
            "4 4 \n",
            "8 8 8 \n",
            "16 16 16 16 \n",
            "32 32 32 32 32 \n"
          ],
          "name": "stdout"
        }
      ]
    },
    {
      "cell_type": "code",
      "metadata": {
        "id": "khJqSMls4uBC",
        "colab_type": "code",
        "colab": {
          "base_uri": "https://localhost:8080/",
          "height": 117
        },
        "outputId": "36c93e8c-8bff-4d23-f58d-e3fb90e99923"
      },
      "source": [
        "print(\"Second Number Pattern \")\n",
        "lastNumber = 6\n",
        "for row in range(1, lastNumber):\n",
        "    for column in range(1, row + 1):\n",
        "        print(2**column, end=' ')\n",
        "    print(\"\")"
      ],
      "execution_count": 17,
      "outputs": [
        {
          "output_type": "stream",
          "text": [
            "Second Number Pattern \n",
            "2 \n",
            "2 4 \n",
            "2 4 8 \n",
            "2 4 8 16 \n",
            "2 4 8 16 32 \n"
          ],
          "name": "stdout"
        }
      ]
    },
    {
      "cell_type": "code",
      "metadata": {
        "id": "QIQU3bp-40wy",
        "colab_type": "code",
        "colab": {
          "base_uri": "https://localhost:8080/",
          "height": 117
        },
        "outputId": "e48d8338-ae2b-4943-97e9-5acd87a52eed"
      },
      "source": [
        "print(\"Second Number Pattern \")\n",
        "lastNumber = 6\n",
        "for row in range(1, lastNumber):\n",
        "    for column in range(1, row + 1):\n",
        "        print(column, end='  ')\n",
        "    print(\"\")"
      ],
      "execution_count": 21,
      "outputs": [
        {
          "output_type": "stream",
          "text": [
            "Second Number Pattern \n",
            "1    \n",
            "1    2    \n",
            "1    2    3    \n",
            "1    2    3    4    \n",
            "1    2    3    4    5    \n"
          ],
          "name": "stdout"
        }
      ]
    },
    {
      "cell_type": "code",
      "metadata": {
        "id": "czNpT8qT5otf",
        "colab_type": "code",
        "colab": {
          "base_uri": "https://localhost:8080/",
          "height": 201
        },
        "outputId": "f8d77c69-2246-44b5-fe8e-56cdba153eb0"
      },
      "source": [
        "no_of_enteries=int(input(\"How many number of enteries\"))\n",
        "i=no_of_enteries\n",
        "f=[]\n",
        "g=[]\n",
        "while(no_of_enteries>0):\n",
        "    x, y = input(\"Enter a first name &  last name: \").split() \n",
        "    f.append(x)\n",
        "    g.append(y) \n",
        "    no_of_enteries=no_of_enteries-1\n",
        "Z=0\n",
        "big=max(f,key=len)\n",
        "big2=max(g,key=len)\n",
        "length=len(big+big2)\n",
        "print('$'.rjust(length+7,'$'))\n",
        "while(Z<i):\n",
        "  print('$',f[Z],g[Z],'$'.rjust(((length+3)-(len(f[Z])+len(g[Z]))),' ')) \n",
        "  Z += 1\n",
        "print('$'.rjust(length+7,'$'))\n",
        "\n",
        " \n",
        "\n",
        "\n",
        "  "
      ],
      "execution_count": 29,
      "outputs": [
        {
          "output_type": "stream",
          "text": [
            "How many number of enteries4\n",
            "Enter a first name &  last name: devesh meena\n",
            "Enter a first name &  last name: vedant bhatt\n",
            "Enter a first name &  last name: taanvi goyal\n",
            "Enter a first name &  last name: devdegvdegvdeg vdgvegdv\n",
            "$$$$$$$$$$$$$$$$$$$$$$$$$$$$$\n",
            "$ devesh meena              $\n",
            "$ vedant bhatt              $\n",
            "$ taanvi goyal              $\n",
            "$ devdegvdegvdeg vdgvegdv   $\n",
            "$$$$$$$$$$$$$$$$$$$$$$$$$$$$$\n"
          ],
          "name": "stdout"
        }
      ]
    }
  ]
}