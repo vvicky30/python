{
  "nbformat": 4,
  "nbformat_minor": 0,
  "metadata": {
    "colab": {
      "name": "square_transaction.ipynb",
      "provenance": [],
      "authorship_tag": "ABX9TyPFmyaIO/zhd/1smhPxOdBE",
      "include_colab_link": true
    },
    "kernelspec": {
      "name": "python3",
      "display_name": "Python 3"
    }
  },
  "cells": [
    {
      "cell_type": "markdown",
      "metadata": {
        "id": "view-in-github",
        "colab_type": "text"
      },
      "source": [
        "<a href=\"https://colab.research.google.com/github/vvicky30/python/blob/master/square_transaction.ipynb\" target=\"_parent\"><img src=\"https://colab.research.google.com/assets/colab-badge.svg\" alt=\"Open In Colab\"/></a>"
      ]
    },
    {
      "cell_type": "markdown",
      "metadata": {
        "id": "RC1clanZ4bcK",
        "colab_type": "text"
      },
      "source": [
        "##problem\n",
        "Square Inc. processes thousands of transactions daily amounting to millions of dollars. They also have a daily target that they must achieve. Given a list of transactions done by Square Inc. and a daily target your task is to determine at which transaction does Square achieves the same.\n",
        "\n",
        "###Input:\n",
        "First line contains T, number of transactions done by Square in a day.\n",
        "The following line contains T integers, the worth of each transactions.\n",
        "Next line contains Q, the no of queries.\n",
        "Next Q lines contain an integer each representing the daily target.\n",
        "\n",
        "###Output:\n",
        "For each query, print the transaction number where the daily limit is achieved or -1 if the target can't be achieved.\n",
        "\n",
        "###sample input:-\n",
        "5\n",
        "\n",
        "1 2 1 3 4\n",
        "\n",
        "3\n",
        "\n",
        "4\n",
        "\n",
        "2\n",
        "\n",
        "10\n",
        "\n",
        "###sample output:-\n",
        "3\n",
        "\n",
        "2\n",
        "\n",
        "5\n"
      ]
    },
    {
      "cell_type": "code",
      "metadata": {
        "id": "Db2pF4B_3EOE",
        "colab_type": "code",
        "colab": {
          "base_uri": "https://localhost:8080/",
          "height": 168
        },
        "outputId": "32351670-5f16-4312-b51d-55e91d0e5ef8"
      },
      "source": [
        "n=int(input())\n",
        "a=list(map(int,input().split()))\n",
        "add = [0 for i in range(n+1)]\n",
        "for i in range(n):\n",
        "    add[i+1]=add[i]+a[i]\n",
        "q=int(input())\n",
        "prev=0\n",
        "prev_ind=1\n",
        "for _ in range(q):\n",
        "    t=int(input())\n",
        "    if t>add[n]:\n",
        "        print(\"-1\")\n",
        "        continue\n",
        "    if t>prev:\n",
        "        while add[prev_ind]<t and prev_ind<=n : prev_ind+=1\n",
        "        print(prev_ind)\n",
        "        prev=t\n",
        "    elif t<prev:\n",
        "        while add[prev_ind]>=t:prev_ind-=1\n",
        "        prev_ind+=1\n",
        "        print(prev_ind)\n",
        "        prev=t\n",
        "    else : print(prev_ind)"
      ],
      "execution_count": 9,
      "outputs": [
        {
          "output_type": "stream",
          "text": [
            "5\n",
            "1 2 1 3 4\n",
            "3\n",
            "4\n",
            "3\n",
            "2\n",
            "2\n",
            "10\n",
            "5\n"
          ],
          "name": "stdout"
        }
      ]
    },
    {
      "cell_type": "code",
      "metadata": {
        "id": "drXukQdn5GEI",
        "colab_type": "code",
        "colab": {}
      },
      "source": [
        "5"
      ],
      "execution_count": 0,
      "outputs": []
    }
  ]
}